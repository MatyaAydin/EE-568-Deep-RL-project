{
 "cells": [
  {
   "cell_type": "code",
   "execution_count": 1,
   "id": "8c10451e",
   "metadata": {},
   "outputs": [],
   "source": [
    "from stable_baselines3.common.callbacks import BaseCallback\n",
    "import numpy as np\n",
    "import os\n",
    "\n",
    "class MultiSeedEvalCallback(BaseCallback):\n",
    "    \"\"\"\n",
    "    Custom callback that evaluates the model on multiple seeds and averages the results.\n",
    "    \"\"\"\n",
    "    def __init__(\n",
    "        self,\n",
    "        eval_env,\n",
    "        n_eval_episodes: int = 5,\n",
    "        eval_freq: int = 10000,\n",
    "        n_eval_seeds: int = 3,\n",
    "        log_path: str = None,\n",
    "        best_model_save_path: str = None,\n",
    "        deterministic: bool = True,\n",
    "        verbose: int = 0,\n",
    "    ):\n",
    "        super().__init__(verbose=verbose)\n",
    "        self.eval_env = eval_env\n",
    "        self.n_eval_episodes = n_eval_episodes\n",
    "        self.eval_freq = eval_freq\n",
    "        self.n_eval_seeds = n_eval_seeds\n",
    "        self.best_model_save_path = best_model_save_path\n",
    "        self.log_path = log_path\n",
    "        self.deterministic = deterministic\n",
    "        self.best_mean_reward = -np.inf\n",
    "        \n",
    "        if self.log_path is not None:\n",
    "            os.makedirs(log_path, exist_ok=True)\n",
    "            self.log_file = open(os.path.join(log_path, \"eval_logs.txt\"), \"w\")\n",
    "        \n",
    "        if self.best_model_save_path is not None:\n",
    "            os.makedirs(best_model_save_path, exist_ok=True)\n",
    "\n",
    "    def _on_step(self) -> bool:\n",
    "        if self.eval_freq > 0 and self.n_calls % self.eval_freq == 0:\n",
    "            # Evaluate on multiple seeds\n",
    "            seed_rewards = []\n",
    "            for seed in range(self.n_eval_seeds):\n",
    "                rewards = []\n",
    "                for _ in range(self.n_eval_episodes):\n",
    "                    obs = self.eval_env.reset()\n",
    "                    self.eval_env.seed(seed)\n",
    "                    done = False\n",
    "                    episode_reward = 0.0\n",
    "                    while not done:\n",
    "                        action, _ = self.model.predict(obs, deterministic=self.deterministic)\n",
    "                        obs, reward, done, info = self.eval_env.step(action)\n",
    "                        episode_reward += reward\n",
    "                    rewards.append(episode_reward)\n",
    "                \n",
    "                seed_mean_reward = np.mean(rewards)\n",
    "                seed_rewards.append(seed_mean_reward)\n",
    "            \n",
    "            # Calculate average across seeds\n",
    "            mean_reward = np.mean(seed_rewards)\n",
    "            std_reward = np.std(seed_rewards)\n",
    "            \n",
    "            if self.verbose > 0:\n",
    "                print(f\"Eval num_timesteps={self.num_timesteps}, mean_reward={mean_reward:.2f} +/- {std_reward:.2f}\")\n",
    "            \n",
    "            # Log to file if path provided\n",
    "            if self.log_path is not None:\n",
    "                self.log_file.write(f\"{self.num_timesteps},{mean_reward},{std_reward}\\n\")\n",
    "                self.log_file.flush()\n",
    "            \n",
    "            # Save best model\n",
    "            if mean_reward > self.best_mean_reward and self.best_model_save_path is not None:\n",
    "                self.best_mean_reward = mean_reward\n",
    "                if self.verbose > 0:\n",
    "                    print(f\"New best mean reward: {mean_reward:.2f} - Saving model\")\n",
    "                self.model.save(os.path.join(self.best_model_save_path, \"best_model\"), include = [\"env\"])\n",
    "        \n",
    "        return True\n",
    "\n",
    "    def _on_training_end(self) -> None:\n",
    "        if self.log_path is not None:\n",
    "            self.log_file.close()"
   ]
  },
  {
   "cell_type": "code",
   "execution_count": null,
   "id": "ee65268f",
   "metadata": {},
   "outputs": [
    {
     "name": "stderr",
     "output_type": "stream",
     "text": [
      "[I 2025-05-06 10:03:11,144] A new study created in memory with name: no-name-9deb915d-3f6f-4fa3-bf3c-d2a9b8cf9867\n"
     ]
    },
    {
     "name": "stdout",
     "output_type": "stream",
     "text": [
      "Optimizing TD3 for Pendulum-v1...\n",
      "Environment: Pendulum-v1\n",
      "Environment: Pendulum-v1\n",
      "Environment: Pendulum-v1\n",
      "Environment: Pendulum-v1\n",
      "Eval num_timesteps=10000, mean_reward=-88.85 +/- 44.61\n",
      "New best mean reward: -88.85 - Saving model\n",
      "Eval num_timesteps=10000, mean_reward=-95.37 +/- 40.75\n",
      "New best mean reward: -95.37 - Saving model\n",
      "Eval num_timesteps=20000, mean_reward=-87.46 +/- 44.28\n",
      "New best mean reward: -87.46 - Saving model\n",
      "Eval num_timesteps=20000, mean_reward=-83.15 +/- 41.75\n",
      "New best mean reward: -83.15 - Saving model\n",
      "Eval num_timesteps=30000, mean_reward=-87.33 +/- 43.94\n",
      "New best mean reward: -87.33 - Saving model\n"
     ]
    },
    {
     "name": "stderr",
     "output_type": "stream",
     "text": [
      "[I 2025-05-06 11:13:00,766] Trial 2 finished with value: -2.6438817977905273 and parameters: {'learning_rate': 0.002039513527229315, 'batch_size': 128, 'buffer_size': 10000, 'learning_starts': 5000, 'train_freq': 2, 'gradient_steps': 4, 'gamma': 0.9136305378395405, 'tau': 0.01414503777558778, 'net_arch': [400, 300], 'noise_type': 'normal', 'noise_std': 0.40907046476778053}. Best is trial 2 with value: -2.6438817977905273.\n"
     ]
    },
    {
     "name": "stdout",
     "output_type": "stream",
     "text": [
      "Environment: Pendulum-v1\n",
      "Eval num_timesteps=30000, mean_reward=-81.67 +/- 41.57\n",
      "New best mean reward: -81.67 - Saving model\n"
     ]
    },
    {
     "name": "stderr",
     "output_type": "stream",
     "text": [
      "[I 2025-05-06 11:15:58,703] Trial 0 finished with value: -2.6438796520233154 and parameters: {'learning_rate': 0.005415860094845779, 'batch_size': 64, 'buffer_size': 1000000, 'learning_starts': 500, 'train_freq': 2, 'gradient_steps': 4, 'gamma': 0.9798185428981724, 'tau': 0.014798043341036942, 'net_arch': [256, 256], 'noise_type': 'normal', 'noise_std': 0.6593995681697091}. Best is trial 0 with value: -2.6438796520233154.\n"
     ]
    },
    {
     "name": "stdout",
     "output_type": "stream",
     "text": [
      "Eval num_timesteps=10000, mean_reward=-92.04 +/- 51.48\n",
      "New best mean reward: -92.04 - Saving model\n",
      "Eval num_timesteps=10000, mean_reward=-90.50 +/- 51.27\n",
      "New best mean reward: -90.50 - Saving model\n",
      "Eval num_timesteps=20000, mean_reward=-82.91 +/- 42.01\n",
      "New best mean reward: -82.91 - Saving model\n",
      "Eval num_timesteps=30000, mean_reward=-83.43 +/- 42.17\n"
     ]
    },
    {
     "name": "stderr",
     "output_type": "stream",
     "text": [
      "[I 2025-05-06 11:26:32,773] Trial 4 finished with value: -2.6438519954681396 and parameters: {'learning_rate': 0.0015011425163337368, 'batch_size': 64, 'buffer_size': 1000, 'learning_starts': 1000, 'train_freq': 10, 'gradient_steps': 4, 'gamma': 0.9377957909309438, 'tau': 0.01146343586128969, 'net_arch': [400, 300], 'noise_type': 'ou', 'noise_std': 0.2478839960493613}. Best is trial 4 with value: -2.6438519954681396.\n"
     ]
    },
    {
     "name": "stdout",
     "output_type": "stream",
     "text": [
      "Eval num_timesteps=10000, mean_reward=-94.38 +/- 44.08\n",
      "New best mean reward: -94.38 - Saving model\n",
      "Eval num_timesteps=20000, mean_reward=-81.81 +/- 41.30\n",
      "New best mean reward: -81.81 - Saving model\n",
      "Eval num_timesteps=20000, mean_reward=-88.70 +/- 43.83\n",
      "New best mean reward: -88.70 - Saving model\n",
      "Eval num_timesteps=30000, mean_reward=-82.18 +/- 41.52\n"
     ]
    },
    {
     "name": "stderr",
     "output_type": "stream",
     "text": [
      "[I 2025-05-06 12:21:01,959] Trial 1 finished with value: -2.6434738636016846 and parameters: {'learning_rate': 0.000826917816406134, 'batch_size': 128, 'buffer_size': 10000000, 'learning_starts': 1000, 'train_freq': 1, 'gradient_steps': 7, 'gamma': 0.9819490449687415, 'tau': 0.010093815997082409, 'net_arch': [256, 256], 'noise_type': 'normal', 'noise_std': 0.4909612653800597}. Best is trial 1 with value: -2.6434738636016846.\n",
      "[I 2025-05-06 12:29:08,403] Trial 3 finished with value: -2.643876791000366 and parameters: {'learning_rate': 0.00010218979577825981, 'batch_size': 256, 'buffer_size': 10000, 'learning_starts': 500, 'train_freq': 1, 'gradient_steps': 10, 'gamma': 0.9046742020585959, 'tau': 0.0021434351417135744, 'net_arch': [64, 64], 'noise_type': 'normal', 'noise_std': 0.4610734653203645}. Best is trial 1 with value: -2.6434738636016846.\n"
     ]
    },
    {
     "name": "stdout",
     "output_type": "stream",
     "text": [
      "Eval num_timesteps=30000, mean_reward=-92.96 +/- 43.38\n",
      "Best trial:\n",
      "Value: -2.6434738636016846\n",
      "Params:\n",
      "    learning_rate: 0.000826917816406134\n",
      "    batch_size: 128\n",
      "    buffer_size: 10000000\n",
      "    learning_starts: 1000\n",
      "    train_freq: 1\n",
      "    gradient_steps: 7\n",
      "    gamma: 0.9819490449687415\n",
      "    tau: 0.010093815997082409\n",
      "    net_arch: [256, 256]\n",
      "    noise_type: normal\n",
      "    noise_std: 0.4909612653800597\n"
     ]
    },
    {
     "data": {
      "application/vnd.plotly.v1+json": {
       "config": {
        "plotlyServerURL": "https://plot.ly"
       },
       "data": [
        {
         "mode": "markers",
         "name": "Objective Value",
         "type": "scatter",
         "x": [
          0,
          1,
          2,
          3,
          4
         ],
         "y": [
          -2.6438796520233154,
          -2.6434738636016846,
          -2.6438817977905273,
          -2.643876791000366,
          -2.6438519954681396
         ]
        },
        {
         "mode": "lines",
         "name": "Best Value",
         "type": "scatter",
         "x": [
          0,
          1,
          2,
          3,
          4
         ],
         "y": [
          -2.6438796520233154,
          -2.6434738636016846,
          -2.6434738636016846,
          -2.6434738636016846,
          -2.6434738636016846
         ]
        },
        {
         "marker": {
          "color": "#cccccc"
         },
         "mode": "markers",
         "name": "Infeasible Trial",
         "showlegend": false,
         "type": "scatter",
         "x": [],
         "y": []
        }
       ],
       "layout": {
        "template": {
         "data": {
          "bar": [
           {
            "error_x": {
             "color": "#2a3f5f"
            },
            "error_y": {
             "color": "#2a3f5f"
            },
            "marker": {
             "line": {
              "color": "#E5ECF6",
              "width": 0.5
             },
             "pattern": {
              "fillmode": "overlay",
              "size": 10,
              "solidity": 0.2
             }
            },
            "type": "bar"
           }
          ],
          "barpolar": [
           {
            "marker": {
             "line": {
              "color": "#E5ECF6",
              "width": 0.5
             },
             "pattern": {
              "fillmode": "overlay",
              "size": 10,
              "solidity": 0.2
             }
            },
            "type": "barpolar"
           }
          ],
          "carpet": [
           {
            "aaxis": {
             "endlinecolor": "#2a3f5f",
             "gridcolor": "white",
             "linecolor": "white",
             "minorgridcolor": "white",
             "startlinecolor": "#2a3f5f"
            },
            "baxis": {
             "endlinecolor": "#2a3f5f",
             "gridcolor": "white",
             "linecolor": "white",
             "minorgridcolor": "white",
             "startlinecolor": "#2a3f5f"
            },
            "type": "carpet"
           }
          ],
          "choropleth": [
           {
            "colorbar": {
             "outlinewidth": 0,
             "ticks": ""
            },
            "type": "choropleth"
           }
          ],
          "contour": [
           {
            "colorbar": {
             "outlinewidth": 0,
             "ticks": ""
            },
            "colorscale": [
             [
              0,
              "#0d0887"
             ],
             [
              0.1111111111111111,
              "#46039f"
             ],
             [
              0.2222222222222222,
              "#7201a8"
             ],
             [
              0.3333333333333333,
              "#9c179e"
             ],
             [
              0.4444444444444444,
              "#bd3786"
             ],
             [
              0.5555555555555556,
              "#d8576b"
             ],
             [
              0.6666666666666666,
              "#ed7953"
             ],
             [
              0.7777777777777778,
              "#fb9f3a"
             ],
             [
              0.8888888888888888,
              "#fdca26"
             ],
             [
              1,
              "#f0f921"
             ]
            ],
            "type": "contour"
           }
          ],
          "contourcarpet": [
           {
            "colorbar": {
             "outlinewidth": 0,
             "ticks": ""
            },
            "type": "contourcarpet"
           }
          ],
          "heatmap": [
           {
            "colorbar": {
             "outlinewidth": 0,
             "ticks": ""
            },
            "colorscale": [
             [
              0,
              "#0d0887"
             ],
             [
              0.1111111111111111,
              "#46039f"
             ],
             [
              0.2222222222222222,
              "#7201a8"
             ],
             [
              0.3333333333333333,
              "#9c179e"
             ],
             [
              0.4444444444444444,
              "#bd3786"
             ],
             [
              0.5555555555555556,
              "#d8576b"
             ],
             [
              0.6666666666666666,
              "#ed7953"
             ],
             [
              0.7777777777777778,
              "#fb9f3a"
             ],
             [
              0.8888888888888888,
              "#fdca26"
             ],
             [
              1,
              "#f0f921"
             ]
            ],
            "type": "heatmap"
           }
          ],
          "heatmapgl": [
           {
            "colorbar": {
             "outlinewidth": 0,
             "ticks": ""
            },
            "colorscale": [
             [
              0,
              "#0d0887"
             ],
             [
              0.1111111111111111,
              "#46039f"
             ],
             [
              0.2222222222222222,
              "#7201a8"
             ],
             [
              0.3333333333333333,
              "#9c179e"
             ],
             [
              0.4444444444444444,
              "#bd3786"
             ],
             [
              0.5555555555555556,
              "#d8576b"
             ],
             [
              0.6666666666666666,
              "#ed7953"
             ],
             [
              0.7777777777777778,
              "#fb9f3a"
             ],
             [
              0.8888888888888888,
              "#fdca26"
             ],
             [
              1,
              "#f0f921"
             ]
            ],
            "type": "heatmapgl"
           }
          ],
          "histogram": [
           {
            "marker": {
             "pattern": {
              "fillmode": "overlay",
              "size": 10,
              "solidity": 0.2
             }
            },
            "type": "histogram"
           }
          ],
          "histogram2d": [
           {
            "colorbar": {
             "outlinewidth": 0,
             "ticks": ""
            },
            "colorscale": [
             [
              0,
              "#0d0887"
             ],
             [
              0.1111111111111111,
              "#46039f"
             ],
             [
              0.2222222222222222,
              "#7201a8"
             ],
             [
              0.3333333333333333,
              "#9c179e"
             ],
             [
              0.4444444444444444,
              "#bd3786"
             ],
             [
              0.5555555555555556,
              "#d8576b"
             ],
             [
              0.6666666666666666,
              "#ed7953"
             ],
             [
              0.7777777777777778,
              "#fb9f3a"
             ],
             [
              0.8888888888888888,
              "#fdca26"
             ],
             [
              1,
              "#f0f921"
             ]
            ],
            "type": "histogram2d"
           }
          ],
          "histogram2dcontour": [
           {
            "colorbar": {
             "outlinewidth": 0,
             "ticks": ""
            },
            "colorscale": [
             [
              0,
              "#0d0887"
             ],
             [
              0.1111111111111111,
              "#46039f"
             ],
             [
              0.2222222222222222,
              "#7201a8"
             ],
             [
              0.3333333333333333,
              "#9c179e"
             ],
             [
              0.4444444444444444,
              "#bd3786"
             ],
             [
              0.5555555555555556,
              "#d8576b"
             ],
             [
              0.6666666666666666,
              "#ed7953"
             ],
             [
              0.7777777777777778,
              "#fb9f3a"
             ],
             [
              0.8888888888888888,
              "#fdca26"
             ],
             [
              1,
              "#f0f921"
             ]
            ],
            "type": "histogram2dcontour"
           }
          ],
          "mesh3d": [
           {
            "colorbar": {
             "outlinewidth": 0,
             "ticks": ""
            },
            "type": "mesh3d"
           }
          ],
          "parcoords": [
           {
            "line": {
             "colorbar": {
              "outlinewidth": 0,
              "ticks": ""
             }
            },
            "type": "parcoords"
           }
          ],
          "pie": [
           {
            "automargin": true,
            "type": "pie"
           }
          ],
          "scatter": [
           {
            "fillpattern": {
             "fillmode": "overlay",
             "size": 10,
             "solidity": 0.2
            },
            "type": "scatter"
           }
          ],
          "scatter3d": [
           {
            "line": {
             "colorbar": {
              "outlinewidth": 0,
              "ticks": ""
             }
            },
            "marker": {
             "colorbar": {
              "outlinewidth": 0,
              "ticks": ""
             }
            },
            "type": "scatter3d"
           }
          ],
          "scattercarpet": [
           {
            "marker": {
             "colorbar": {
              "outlinewidth": 0,
              "ticks": ""
             }
            },
            "type": "scattercarpet"
           }
          ],
          "scattergeo": [
           {
            "marker": {
             "colorbar": {
              "outlinewidth": 0,
              "ticks": ""
             }
            },
            "type": "scattergeo"
           }
          ],
          "scattergl": [
           {
            "marker": {
             "colorbar": {
              "outlinewidth": 0,
              "ticks": ""
             }
            },
            "type": "scattergl"
           }
          ],
          "scattermapbox": [
           {
            "marker": {
             "colorbar": {
              "outlinewidth": 0,
              "ticks": ""
             }
            },
            "type": "scattermapbox"
           }
          ],
          "scatterpolar": [
           {
            "marker": {
             "colorbar": {
              "outlinewidth": 0,
              "ticks": ""
             }
            },
            "type": "scatterpolar"
           }
          ],
          "scatterpolargl": [
           {
            "marker": {
             "colorbar": {
              "outlinewidth": 0,
              "ticks": ""
             }
            },
            "type": "scatterpolargl"
           }
          ],
          "scatterternary": [
           {
            "marker": {
             "colorbar": {
              "outlinewidth": 0,
              "ticks": ""
             }
            },
            "type": "scatterternary"
           }
          ],
          "surface": [
           {
            "colorbar": {
             "outlinewidth": 0,
             "ticks": ""
            },
            "colorscale": [
             [
              0,
              "#0d0887"
             ],
             [
              0.1111111111111111,
              "#46039f"
             ],
             [
              0.2222222222222222,
              "#7201a8"
             ],
             [
              0.3333333333333333,
              "#9c179e"
             ],
             [
              0.4444444444444444,
              "#bd3786"
             ],
             [
              0.5555555555555556,
              "#d8576b"
             ],
             [
              0.6666666666666666,
              "#ed7953"
             ],
             [
              0.7777777777777778,
              "#fb9f3a"
             ],
             [
              0.8888888888888888,
              "#fdca26"
             ],
             [
              1,
              "#f0f921"
             ]
            ],
            "type": "surface"
           }
          ],
          "table": [
           {
            "cells": {
             "fill": {
              "color": "#EBF0F8"
             },
             "line": {
              "color": "white"
             }
            },
            "header": {
             "fill": {
              "color": "#C8D4E3"
             },
             "line": {
              "color": "white"
             }
            },
            "type": "table"
           }
          ]
         },
         "layout": {
          "annotationdefaults": {
           "arrowcolor": "#2a3f5f",
           "arrowhead": 0,
           "arrowwidth": 1
          },
          "autotypenumbers": "strict",
          "coloraxis": {
           "colorbar": {
            "outlinewidth": 0,
            "ticks": ""
           }
          },
          "colorscale": {
           "diverging": [
            [
             0,
             "#8e0152"
            ],
            [
             0.1,
             "#c51b7d"
            ],
            [
             0.2,
             "#de77ae"
            ],
            [
             0.3,
             "#f1b6da"
            ],
            [
             0.4,
             "#fde0ef"
            ],
            [
             0.5,
             "#f7f7f7"
            ],
            [
             0.6,
             "#e6f5d0"
            ],
            [
             0.7,
             "#b8e186"
            ],
            [
             0.8,
             "#7fbc41"
            ],
            [
             0.9,
             "#4d9221"
            ],
            [
             1,
             "#276419"
            ]
           ],
           "sequential": [
            [
             0,
             "#0d0887"
            ],
            [
             0.1111111111111111,
             "#46039f"
            ],
            [
             0.2222222222222222,
             "#7201a8"
            ],
            [
             0.3333333333333333,
             "#9c179e"
            ],
            [
             0.4444444444444444,
             "#bd3786"
            ],
            [
             0.5555555555555556,
             "#d8576b"
            ],
            [
             0.6666666666666666,
             "#ed7953"
            ],
            [
             0.7777777777777778,
             "#fb9f3a"
            ],
            [
             0.8888888888888888,
             "#fdca26"
            ],
            [
             1,
             "#f0f921"
            ]
           ],
           "sequentialminus": [
            [
             0,
             "#0d0887"
            ],
            [
             0.1111111111111111,
             "#46039f"
            ],
            [
             0.2222222222222222,
             "#7201a8"
            ],
            [
             0.3333333333333333,
             "#9c179e"
            ],
            [
             0.4444444444444444,
             "#bd3786"
            ],
            [
             0.5555555555555556,
             "#d8576b"
            ],
            [
             0.6666666666666666,
             "#ed7953"
            ],
            [
             0.7777777777777778,
             "#fb9f3a"
            ],
            [
             0.8888888888888888,
             "#fdca26"
            ],
            [
             1,
             "#f0f921"
            ]
           ]
          },
          "colorway": [
           "#636efa",
           "#EF553B",
           "#00cc96",
           "#ab63fa",
           "#FFA15A",
           "#19d3f3",
           "#FF6692",
           "#B6E880",
           "#FF97FF",
           "#FECB52"
          ],
          "font": {
           "color": "#2a3f5f"
          },
          "geo": {
           "bgcolor": "white",
           "lakecolor": "white",
           "landcolor": "#E5ECF6",
           "showlakes": true,
           "showland": true,
           "subunitcolor": "white"
          },
          "hoverlabel": {
           "align": "left"
          },
          "hovermode": "closest",
          "mapbox": {
           "style": "light"
          },
          "paper_bgcolor": "white",
          "plot_bgcolor": "#E5ECF6",
          "polar": {
           "angularaxis": {
            "gridcolor": "white",
            "linecolor": "white",
            "ticks": ""
           },
           "bgcolor": "#E5ECF6",
           "radialaxis": {
            "gridcolor": "white",
            "linecolor": "white",
            "ticks": ""
           }
          },
          "scene": {
           "xaxis": {
            "backgroundcolor": "#E5ECF6",
            "gridcolor": "white",
            "gridwidth": 2,
            "linecolor": "white",
            "showbackground": true,
            "ticks": "",
            "zerolinecolor": "white"
           },
           "yaxis": {
            "backgroundcolor": "#E5ECF6",
            "gridcolor": "white",
            "gridwidth": 2,
            "linecolor": "white",
            "showbackground": true,
            "ticks": "",
            "zerolinecolor": "white"
           },
           "zaxis": {
            "backgroundcolor": "#E5ECF6",
            "gridcolor": "white",
            "gridwidth": 2,
            "linecolor": "white",
            "showbackground": true,
            "ticks": "",
            "zerolinecolor": "white"
           }
          },
          "shapedefaults": {
           "line": {
            "color": "#2a3f5f"
           }
          },
          "ternary": {
           "aaxis": {
            "gridcolor": "white",
            "linecolor": "white",
            "ticks": ""
           },
           "baxis": {
            "gridcolor": "white",
            "linecolor": "white",
            "ticks": ""
           },
           "bgcolor": "#E5ECF6",
           "caxis": {
            "gridcolor": "white",
            "linecolor": "white",
            "ticks": ""
           }
          },
          "title": {
           "x": 0.05
          },
          "xaxis": {
           "automargin": true,
           "gridcolor": "white",
           "linecolor": "white",
           "ticks": "",
           "title": {
            "standoff": 15
           },
           "zerolinecolor": "white",
           "zerolinewidth": 2
          },
          "yaxis": {
           "automargin": true,
           "gridcolor": "white",
           "linecolor": "white",
           "ticks": "",
           "title": {
            "standoff": 15
           },
           "zerolinecolor": "white",
           "zerolinewidth": 2
          }
         }
        },
        "title": {
         "text": "Optimization History Plot"
        },
        "xaxis": {
         "title": {
          "text": "Trial"
         }
        },
        "yaxis": {
         "title": {
          "text": "Objective Value"
         }
        }
       }
      }
     },
     "metadata": {},
     "output_type": "display_data"
    },
    {
     "data": {
      "application/vnd.plotly.v1+json": {
       "config": {
        "plotlyServerURL": "https://plot.ly"
       },
       "data": [
        {
         "cliponaxis": false,
         "hovertemplate": [
          "gradient_steps (IntDistribution): 0.015706758073875636<extra></extra>",
          "tau (FloatDistribution): 0.04428985561793788<extra></extra>",
          "noise_std (FloatDistribution): 0.04620232483232336<extra></extra>",
          "net_arch (CategoricalDistribution): 0.04745484486664226<extra></extra>",
          "noise_type (CategoricalDistribution): 0.06275107994226035<extra></extra>",
          "learning_starts (CategoricalDistribution): 0.06303105393939593<extra></extra>",
          "learning_rate (FloatDistribution): 0.07283147558561147<extra></extra>",
          "batch_size (CategoricalDistribution): 0.07853087903681634<extra></extra>",
          "train_freq (CategoricalDistribution): 0.15662232268284082<extra></extra>",
          "gamma (FloatDistribution): 0.1718527151442108<extra></extra>",
          "buffer_size (CategoricalDistribution): 0.2407266902780852<extra></extra>"
         ],
         "name": "Objective Value",
         "orientation": "h",
         "text": [
          "0.02",
          "0.04",
          "0.05",
          "0.05",
          "0.06",
          "0.06",
          "0.07",
          "0.08",
          "0.16",
          "0.17",
          "0.24"
         ],
         "textposition": "outside",
         "type": "bar",
         "x": [
          0.015706758073875636,
          0.04428985561793788,
          0.04620232483232336,
          0.04745484486664226,
          0.06275107994226035,
          0.06303105393939593,
          0.07283147558561147,
          0.07853087903681634,
          0.15662232268284082,
          0.1718527151442108,
          0.2407266902780852
         ],
         "y": [
          "gradient_steps",
          "tau",
          "noise_std",
          "net_arch",
          "noise_type",
          "learning_starts",
          "learning_rate",
          "batch_size",
          "train_freq",
          "gamma",
          "buffer_size"
         ]
        }
       ],
       "layout": {
        "template": {
         "data": {
          "bar": [
           {
            "error_x": {
             "color": "#2a3f5f"
            },
            "error_y": {
             "color": "#2a3f5f"
            },
            "marker": {
             "line": {
              "color": "#E5ECF6",
              "width": 0.5
             },
             "pattern": {
              "fillmode": "overlay",
              "size": 10,
              "solidity": 0.2
             }
            },
            "type": "bar"
           }
          ],
          "barpolar": [
           {
            "marker": {
             "line": {
              "color": "#E5ECF6",
              "width": 0.5
             },
             "pattern": {
              "fillmode": "overlay",
              "size": 10,
              "solidity": 0.2
             }
            },
            "type": "barpolar"
           }
          ],
          "carpet": [
           {
            "aaxis": {
             "endlinecolor": "#2a3f5f",
             "gridcolor": "white",
             "linecolor": "white",
             "minorgridcolor": "white",
             "startlinecolor": "#2a3f5f"
            },
            "baxis": {
             "endlinecolor": "#2a3f5f",
             "gridcolor": "white",
             "linecolor": "white",
             "minorgridcolor": "white",
             "startlinecolor": "#2a3f5f"
            },
            "type": "carpet"
           }
          ],
          "choropleth": [
           {
            "colorbar": {
             "outlinewidth": 0,
             "ticks": ""
            },
            "type": "choropleth"
           }
          ],
          "contour": [
           {
            "colorbar": {
             "outlinewidth": 0,
             "ticks": ""
            },
            "colorscale": [
             [
              0,
              "#0d0887"
             ],
             [
              0.1111111111111111,
              "#46039f"
             ],
             [
              0.2222222222222222,
              "#7201a8"
             ],
             [
              0.3333333333333333,
              "#9c179e"
             ],
             [
              0.4444444444444444,
              "#bd3786"
             ],
             [
              0.5555555555555556,
              "#d8576b"
             ],
             [
              0.6666666666666666,
              "#ed7953"
             ],
             [
              0.7777777777777778,
              "#fb9f3a"
             ],
             [
              0.8888888888888888,
              "#fdca26"
             ],
             [
              1,
              "#f0f921"
             ]
            ],
            "type": "contour"
           }
          ],
          "contourcarpet": [
           {
            "colorbar": {
             "outlinewidth": 0,
             "ticks": ""
            },
            "type": "contourcarpet"
           }
          ],
          "heatmap": [
           {
            "colorbar": {
             "outlinewidth": 0,
             "ticks": ""
            },
            "colorscale": [
             [
              0,
              "#0d0887"
             ],
             [
              0.1111111111111111,
              "#46039f"
             ],
             [
              0.2222222222222222,
              "#7201a8"
             ],
             [
              0.3333333333333333,
              "#9c179e"
             ],
             [
              0.4444444444444444,
              "#bd3786"
             ],
             [
              0.5555555555555556,
              "#d8576b"
             ],
             [
              0.6666666666666666,
              "#ed7953"
             ],
             [
              0.7777777777777778,
              "#fb9f3a"
             ],
             [
              0.8888888888888888,
              "#fdca26"
             ],
             [
              1,
              "#f0f921"
             ]
            ],
            "type": "heatmap"
           }
          ],
          "heatmapgl": [
           {
            "colorbar": {
             "outlinewidth": 0,
             "ticks": ""
            },
            "colorscale": [
             [
              0,
              "#0d0887"
             ],
             [
              0.1111111111111111,
              "#46039f"
             ],
             [
              0.2222222222222222,
              "#7201a8"
             ],
             [
              0.3333333333333333,
              "#9c179e"
             ],
             [
              0.4444444444444444,
              "#bd3786"
             ],
             [
              0.5555555555555556,
              "#d8576b"
             ],
             [
              0.6666666666666666,
              "#ed7953"
             ],
             [
              0.7777777777777778,
              "#fb9f3a"
             ],
             [
              0.8888888888888888,
              "#fdca26"
             ],
             [
              1,
              "#f0f921"
             ]
            ],
            "type": "heatmapgl"
           }
          ],
          "histogram": [
           {
            "marker": {
             "pattern": {
              "fillmode": "overlay",
              "size": 10,
              "solidity": 0.2
             }
            },
            "type": "histogram"
           }
          ],
          "histogram2d": [
           {
            "colorbar": {
             "outlinewidth": 0,
             "ticks": ""
            },
            "colorscale": [
             [
              0,
              "#0d0887"
             ],
             [
              0.1111111111111111,
              "#46039f"
             ],
             [
              0.2222222222222222,
              "#7201a8"
             ],
             [
              0.3333333333333333,
              "#9c179e"
             ],
             [
              0.4444444444444444,
              "#bd3786"
             ],
             [
              0.5555555555555556,
              "#d8576b"
             ],
             [
              0.6666666666666666,
              "#ed7953"
             ],
             [
              0.7777777777777778,
              "#fb9f3a"
             ],
             [
              0.8888888888888888,
              "#fdca26"
             ],
             [
              1,
              "#f0f921"
             ]
            ],
            "type": "histogram2d"
           }
          ],
          "histogram2dcontour": [
           {
            "colorbar": {
             "outlinewidth": 0,
             "ticks": ""
            },
            "colorscale": [
             [
              0,
              "#0d0887"
             ],
             [
              0.1111111111111111,
              "#46039f"
             ],
             [
              0.2222222222222222,
              "#7201a8"
             ],
             [
              0.3333333333333333,
              "#9c179e"
             ],
             [
              0.4444444444444444,
              "#bd3786"
             ],
             [
              0.5555555555555556,
              "#d8576b"
             ],
             [
              0.6666666666666666,
              "#ed7953"
             ],
             [
              0.7777777777777778,
              "#fb9f3a"
             ],
             [
              0.8888888888888888,
              "#fdca26"
             ],
             [
              1,
              "#f0f921"
             ]
            ],
            "type": "histogram2dcontour"
           }
          ],
          "mesh3d": [
           {
            "colorbar": {
             "outlinewidth": 0,
             "ticks": ""
            },
            "type": "mesh3d"
           }
          ],
          "parcoords": [
           {
            "line": {
             "colorbar": {
              "outlinewidth": 0,
              "ticks": ""
             }
            },
            "type": "parcoords"
           }
          ],
          "pie": [
           {
            "automargin": true,
            "type": "pie"
           }
          ],
          "scatter": [
           {
            "fillpattern": {
             "fillmode": "overlay",
             "size": 10,
             "solidity": 0.2
            },
            "type": "scatter"
           }
          ],
          "scatter3d": [
           {
            "line": {
             "colorbar": {
              "outlinewidth": 0,
              "ticks": ""
             }
            },
            "marker": {
             "colorbar": {
              "outlinewidth": 0,
              "ticks": ""
             }
            },
            "type": "scatter3d"
           }
          ],
          "scattercarpet": [
           {
            "marker": {
             "colorbar": {
              "outlinewidth": 0,
              "ticks": ""
             }
            },
            "type": "scattercarpet"
           }
          ],
          "scattergeo": [
           {
            "marker": {
             "colorbar": {
              "outlinewidth": 0,
              "ticks": ""
             }
            },
            "type": "scattergeo"
           }
          ],
          "scattergl": [
           {
            "marker": {
             "colorbar": {
              "outlinewidth": 0,
              "ticks": ""
             }
            },
            "type": "scattergl"
           }
          ],
          "scattermapbox": [
           {
            "marker": {
             "colorbar": {
              "outlinewidth": 0,
              "ticks": ""
             }
            },
            "type": "scattermapbox"
           }
          ],
          "scatterpolar": [
           {
            "marker": {
             "colorbar": {
              "outlinewidth": 0,
              "ticks": ""
             }
            },
            "type": "scatterpolar"
           }
          ],
          "scatterpolargl": [
           {
            "marker": {
             "colorbar": {
              "outlinewidth": 0,
              "ticks": ""
             }
            },
            "type": "scatterpolargl"
           }
          ],
          "scatterternary": [
           {
            "marker": {
             "colorbar": {
              "outlinewidth": 0,
              "ticks": ""
             }
            },
            "type": "scatterternary"
           }
          ],
          "surface": [
           {
            "colorbar": {
             "outlinewidth": 0,
             "ticks": ""
            },
            "colorscale": [
             [
              0,
              "#0d0887"
             ],
             [
              0.1111111111111111,
              "#46039f"
             ],
             [
              0.2222222222222222,
              "#7201a8"
             ],
             [
              0.3333333333333333,
              "#9c179e"
             ],
             [
              0.4444444444444444,
              "#bd3786"
             ],
             [
              0.5555555555555556,
              "#d8576b"
             ],
             [
              0.6666666666666666,
              "#ed7953"
             ],
             [
              0.7777777777777778,
              "#fb9f3a"
             ],
             [
              0.8888888888888888,
              "#fdca26"
             ],
             [
              1,
              "#f0f921"
             ]
            ],
            "type": "surface"
           }
          ],
          "table": [
           {
            "cells": {
             "fill": {
              "color": "#EBF0F8"
             },
             "line": {
              "color": "white"
             }
            },
            "header": {
             "fill": {
              "color": "#C8D4E3"
             },
             "line": {
              "color": "white"
             }
            },
            "type": "table"
           }
          ]
         },
         "layout": {
          "annotationdefaults": {
           "arrowcolor": "#2a3f5f",
           "arrowhead": 0,
           "arrowwidth": 1
          },
          "autotypenumbers": "strict",
          "coloraxis": {
           "colorbar": {
            "outlinewidth": 0,
            "ticks": ""
           }
          },
          "colorscale": {
           "diverging": [
            [
             0,
             "#8e0152"
            ],
            [
             0.1,
             "#c51b7d"
            ],
            [
             0.2,
             "#de77ae"
            ],
            [
             0.3,
             "#f1b6da"
            ],
            [
             0.4,
             "#fde0ef"
            ],
            [
             0.5,
             "#f7f7f7"
            ],
            [
             0.6,
             "#e6f5d0"
            ],
            [
             0.7,
             "#b8e186"
            ],
            [
             0.8,
             "#7fbc41"
            ],
            [
             0.9,
             "#4d9221"
            ],
            [
             1,
             "#276419"
            ]
           ],
           "sequential": [
            [
             0,
             "#0d0887"
            ],
            [
             0.1111111111111111,
             "#46039f"
            ],
            [
             0.2222222222222222,
             "#7201a8"
            ],
            [
             0.3333333333333333,
             "#9c179e"
            ],
            [
             0.4444444444444444,
             "#bd3786"
            ],
            [
             0.5555555555555556,
             "#d8576b"
            ],
            [
             0.6666666666666666,
             "#ed7953"
            ],
            [
             0.7777777777777778,
             "#fb9f3a"
            ],
            [
             0.8888888888888888,
             "#fdca26"
            ],
            [
             1,
             "#f0f921"
            ]
           ],
           "sequentialminus": [
            [
             0,
             "#0d0887"
            ],
            [
             0.1111111111111111,
             "#46039f"
            ],
            [
             0.2222222222222222,
             "#7201a8"
            ],
            [
             0.3333333333333333,
             "#9c179e"
            ],
            [
             0.4444444444444444,
             "#bd3786"
            ],
            [
             0.5555555555555556,
             "#d8576b"
            ],
            [
             0.6666666666666666,
             "#ed7953"
            ],
            [
             0.7777777777777778,
             "#fb9f3a"
            ],
            [
             0.8888888888888888,
             "#fdca26"
            ],
            [
             1,
             "#f0f921"
            ]
           ]
          },
          "colorway": [
           "#636efa",
           "#EF553B",
           "#00cc96",
           "#ab63fa",
           "#FFA15A",
           "#19d3f3",
           "#FF6692",
           "#B6E880",
           "#FF97FF",
           "#FECB52"
          ],
          "font": {
           "color": "#2a3f5f"
          },
          "geo": {
           "bgcolor": "white",
           "lakecolor": "white",
           "landcolor": "#E5ECF6",
           "showlakes": true,
           "showland": true,
           "subunitcolor": "white"
          },
          "hoverlabel": {
           "align": "left"
          },
          "hovermode": "closest",
          "mapbox": {
           "style": "light"
          },
          "paper_bgcolor": "white",
          "plot_bgcolor": "#E5ECF6",
          "polar": {
           "angularaxis": {
            "gridcolor": "white",
            "linecolor": "white",
            "ticks": ""
           },
           "bgcolor": "#E5ECF6",
           "radialaxis": {
            "gridcolor": "white",
            "linecolor": "white",
            "ticks": ""
           }
          },
          "scene": {
           "xaxis": {
            "backgroundcolor": "#E5ECF6",
            "gridcolor": "white",
            "gridwidth": 2,
            "linecolor": "white",
            "showbackground": true,
            "ticks": "",
            "zerolinecolor": "white"
           },
           "yaxis": {
            "backgroundcolor": "#E5ECF6",
            "gridcolor": "white",
            "gridwidth": 2,
            "linecolor": "white",
            "showbackground": true,
            "ticks": "",
            "zerolinecolor": "white"
           },
           "zaxis": {
            "backgroundcolor": "#E5ECF6",
            "gridcolor": "white",
            "gridwidth": 2,
            "linecolor": "white",
            "showbackground": true,
            "ticks": "",
            "zerolinecolor": "white"
           }
          },
          "shapedefaults": {
           "line": {
            "color": "#2a3f5f"
           }
          },
          "ternary": {
           "aaxis": {
            "gridcolor": "white",
            "linecolor": "white",
            "ticks": ""
           },
           "baxis": {
            "gridcolor": "white",
            "linecolor": "white",
            "ticks": ""
           },
           "bgcolor": "#E5ECF6",
           "caxis": {
            "gridcolor": "white",
            "linecolor": "white",
            "ticks": ""
           }
          },
          "title": {
           "x": 0.05
          },
          "xaxis": {
           "automargin": true,
           "gridcolor": "white",
           "linecolor": "white",
           "ticks": "",
           "title": {
            "standoff": 15
           },
           "zerolinecolor": "white",
           "zerolinewidth": 2
          },
          "yaxis": {
           "automargin": true,
           "gridcolor": "white",
           "linecolor": "white",
           "ticks": "",
           "title": {
            "standoff": 15
           },
           "zerolinecolor": "white",
           "zerolinewidth": 2
          }
         }
        },
        "title": {
         "text": "Hyperparameter Importances"
        },
        "xaxis": {
         "title": {
          "text": "Hyperparameter Importance"
         }
        },
        "yaxis": {
         "title": {
          "text": "Hyperparameter"
         }
        }
       }
      }
     },
     "metadata": {},
     "output_type": "display_data"
    },
    {
     "name": "stdout",
     "output_type": "stream",
     "text": [
      "Optimization completed.\n"
     ]
    }
   ],
   "source": [
    "import gymnasium as gym\n",
    "import numpy as np\n",
    "import optuna\n",
    "from optuna.visualization import plot_optimization_history, plot_param_importances\n",
    "import matplotlib.pyplot as plt\n",
    "from stable_baselines3 import SAC\n",
    "from stable_baselines3.common.noise import NormalActionNoise, OrnsteinUhlenbeckActionNoise\n",
    "from stable_baselines3.common.callbacks import EvalCallback\n",
    "from stable_baselines3.common.monitor import Monitor\n",
    "from stable_baselines3.common.vec_env import DummyVecEnv\n",
    "import os\n",
    "import torch\n",
    "import warnings\n",
    "from torch.utils.tensorboard import SummaryWriter\n",
    "\n",
    "warnings.filterwarnings('ignore')\n",
    "\n",
    "# Define the environment names\n",
    "ENV_NAMES = {\n",
    "    'pendulum': 'Pendulum-v1',\n",
    "    'mountaincar': 'MountainCarContinuous-v0'\n",
    "}\n",
    "\n",
    "# 1. Define the evaluation function\n",
    "def evaluate_model(model, env, n_episodes=10):\n",
    "    \"\"\"\n",
    "    Evaluate a RL model\n",
    "    :param model: (BaseAlgorithm) the RL agent\n",
    "    :param env: (gym.Env) the gym environment\n",
    "    :param n_episodes: (int) number of episodes to evaluate\n",
    "    :return: (float) mean reward\n",
    "    \"\"\"\n",
    "    rewards = []\n",
    "    for i in range(3):\n",
    "        obs = env.reset()\n",
    "        env.seed(i)\n",
    "        episode_rewards = []\n",
    "\n",
    "        for j in range(n_episodes):\n",
    "            obs = env.reset()\n",
    "            done = False\n",
    "            episode_reward = 0\n",
    "            while not done:\n",
    "                action, _ = model.predict(obs, deterministic=True)\n",
    "                obs, reward, terminated, truncated = env.step(action)\n",
    "                done = terminated or truncated\n",
    "                episode_reward += reward\n",
    "            episode_rewards.append(episode_reward)\n",
    "        rewards.append(np.mean(episode_rewards))\n",
    "    return np.mean(rewards)\n",
    "\n",
    "\n",
    "# Objective function for optimization\n",
    "def objective(trial):\n",
    "    # Sample hyperparameters\n",
    "    hyperparams = {\n",
    "        'learning_rate': trial.suggest_float('learning_rate', 1e-4, 1e-2, log=True),\n",
    "        'batch_size': trial.suggest_categorical('batch_size', [64, 128, 256]),\n",
    "        'buffer_size': trial.suggest_categorical('buffer_size', [int(1e3), int(1e4), int(1e5), int(1e6), int(1e7)]),\n",
    "        'learning_starts': trial.suggest_categorical('learning_starts', [100, 500, 1000, 5000]),\n",
    "        'train_freq': trial.suggest_categorical('train_freq', [1, 2, 5, 10]),\n",
    "        'gradient_steps': trial.suggest_int('gradient_steps', 1, 10),\n",
    "        'gamma': trial.suggest_float('gamma', 0.9, 0.9999),\n",
    "        'tau': trial.suggest_float('tau', 0.001, 0.02), \n",
    "        'ent_coef':  trial.suggest_float('learning_rate', 1e-3, 1e2, log=True),\n",
    "        'policy_kwargs': {\n",
    "            'net_arch': trial.suggest_categorical('net_arch', [\n",
    "                [64, 64], \n",
    "                [256, 256],\n",
    "                [400, 300]\n",
    "            ])\n",
    "        }\n",
    "    }\n",
    "    env = DummyVecEnv([lambda: Monitor(gym.make(env_name))])\n",
    "\n",
    "    # Add noise configuration\n",
    "    noise_type = trial.suggest_categorical('noise_type', ['normal', 'ou'])\n",
    "    if noise_type != 'none':\n",
    "        noise_std = trial.suggest_float('noise_std', 0.2, 0.7)\n",
    "        if noise_type == 'normal':\n",
    "            action_noise = NormalActionNoise(mean=np.zeros(env.action_space.shape), \n",
    "                                           sigma=noise_std * np.ones(env.action_space.shape))\n",
    "        else:\n",
    "            action_noise = OrnsteinUhlenbeckActionNoise(mean=np.zeros(env.action_space.shape), \n",
    "                                                       sigma=noise_std * np.ones(env.action_space.shape))\n",
    "    else:\n",
    "        action_noise = None\n",
    "\n",
    "    # Create environment\n",
    "    print(f\"Environment: {env_name}\")\n",
    "    # Create model\n",
    "    model = SAC(\n",
    "        \"MlpPolicy\", \n",
    "        env, \n",
    "        verbose=0, \n",
    "        action_noise=action_noise,\n",
    "        tensorboard_log=f\"./logs/SAC_{env_name}/trial_{trial.number}\",\n",
    "        **hyperparams\n",
    "    )\n",
    "\n",
    "    # Train with evaluation callback\n",
    "    eval_callback = MultiSeedEvalCallback(\n",
    "        eval_env=env,\n",
    "        n_eval_episodes=5,          # Number of episodes per seed\n",
    "        eval_freq=10000,             \n",
    "        n_eval_seeds=3,             # Number of different seeds to test\n",
    "        log_path=f\"./logs/SAC_{env_name}/trial_{trial.number}/\",\n",
    "        best_model_save_path=f\"./logs/SAC_{env_name}/trial_{trial.number}/\",\n",
    "        deterministic=True,\n",
    "        verbose=1\n",
    "    )\n",
    "    \n",
    "    try:\n",
    "        if env_name == 'Pendulum-v1':\n",
    "            total_timesteps = 30000\n",
    "        else:\n",
    "            total_timesteps = 300000\n",
    "        model.learn(total_timesteps=total_timesteps, callback=eval_callback)\n",
    "        mean_reward = evaluate_model(model, env, n_episodes=10)\n",
    "    except Exception as e:\n",
    "        print(f\"Trial failed: {e}\")\n",
    "        mean_reward = -float('inf')\n",
    "    \n",
    "    del model\n",
    "    env.close()\n",
    "    return mean_reward\n",
    "\n",
    "# Run the optimization\n",
    "def optimize_hyperparams(env_name, n_trials=50):\n",
    "    \n",
    "    study = optuna.create_study(\n",
    "        direction='maximize',\n",
    "        sampler=optuna.samplers.TPESampler(),\n",
    "        pruner=optuna.pruners.MedianPruner()\n",
    "    )\n",
    "    \n",
    "    study.optimize(objective, n_trials=n_trials, n_jobs=4) \n",
    "    \n",
    "    print(\"Best trial:\")\n",
    "    trial = study.best_trial\n",
    "    print(f\"Value: {trial.value}\")\n",
    "    print(\"Params:\")\n",
    "    for key, value in trial.params.items():\n",
    "        print(f\"    {key}: {value}\")\n",
    "\n",
    "    # Save best parameters\n",
    "    with open(f\"best_params_sac_{env_name}.txt\", \"w\") as f:\n",
    "        f.write(str(trial.params))\n",
    "    \n",
    "    # Visualizations\n",
    "    fig1 = plot_optimization_history(study)\n",
    "    fig1.show()\n",
    "    fig1.write_image(f\"sac_{env_name}_optimization_history.png\")\n",
    "    \n",
    "    fig2 = plot_param_importances(study)\n",
    "    fig2.show()\n",
    "    fig2.write_image(f\"sac_{env_name}_param_importances.png\")\n",
    "    \n",
    "    return study\n",
    "\n",
    "if __name__ == \"__main__\":\n",
    "    # Select environment ('pendulum' or 'mountaincar')\n",
    "    env_keys = ['pendulum']\n",
    "    for i, key in enumerate(env_keys):\n",
    "        global env_name\n",
    "        env_name = ENV_NAMES[key]\n",
    "        # Create directories\n",
    "        os.makedirs(f\"./logs/sac_{env_name}\", exist_ok=True)\n",
    "        \n",
    "        # Run hyperparameter optimization\n",
    "        print(f\"Optimizing SAC for {env_name}...\")\n",
    "        study = optimize_hyperparams(env_name, n_trials=5)\n",
    "        print(\"Optimization completed.\")"
   ]
  },
  {
   "cell_type": "code",
   "execution_count": 5,
   "id": "53c8ac3d",
   "metadata": {},
   "outputs": [],
   "source": [
    "algo = \"SAC\""
   ]
  },
  {
   "cell_type": "code",
   "execution_count": 6,
   "id": "b90b50a1",
   "metadata": {},
   "outputs": [],
   "source": [
    "def plot_reward_over_steps(study, algo):\n",
    "    \"\"\"\n",
    "    Plot reward over optimization steps\n",
    "    \"\"\"\n",
    "    fig = plot_optimization_history(study)\n",
    "    fig.update_layout(title=f'{algo} Optimization History')\n",
    "    fig.show()"
   ]
  },
  {
   "cell_type": "code",
   "execution_count": 7,
   "id": "426788a6",
   "metadata": {},
   "outputs": [
    {
     "name": "stdout",
     "output_type": "stream",
     "text": [
      "Using cpu device\n",
      "----------------------------------\n",
      "| rollout/           |           |\n",
      "|    ep_len_mean     | 200       |\n",
      "|    ep_rew_mean     | -1.09e+03 |\n",
      "| time/              |           |\n",
      "|    episodes        | 4         |\n",
      "|    fps             | 3265      |\n",
      "|    time_elapsed    | 0         |\n",
      "|    total_timesteps | 800       |\n",
      "----------------------------------\n",
      "---------------------------------\n",
      "| rollout/           |          |\n",
      "|    ep_len_mean     | 200      |\n",
      "|    ep_rew_mean     | -949     |\n",
      "| time/              |          |\n",
      "|    episodes        | 8        |\n",
      "|    fps             | 21       |\n",
      "|    time_elapsed    | 75       |\n",
      "|    total_timesteps | 1600     |\n",
      "| train/             |          |\n",
      "|    actor_loss      | 83.6     |\n",
      "|    critic_loss     | 2.25     |\n",
      "|    ent_coef        | 0.256    |\n",
      "|    ent_coef_loss   | -0.00648 |\n",
      "|    learning_rate   | 0.000827 |\n",
      "|    n_updates       | 4193     |\n",
      "---------------------------------\n",
      "---------------------------------\n",
      "| rollout/           |          |\n",
      "|    ep_len_mean     | 200      |\n",
      "|    ep_rew_mean     | -723     |\n",
      "| time/              |          |\n",
      "|    episodes        | 12       |\n",
      "|    fps             | 14       |\n",
      "|    time_elapsed    | 162      |\n",
      "|    total_timesteps | 2400     |\n",
      "| train/             |          |\n",
      "|    actor_loss      | 60.1     |\n",
      "|    critic_loss     | 0.595    |\n",
      "|    ent_coef        | 0.147    |\n",
      "|    ent_coef_loss   | -0.176   |\n",
      "|    learning_rate   | 0.000827 |\n",
      "|    n_updates       | 9793     |\n",
      "---------------------------------\n",
      "---------------------------------\n",
      "| rollout/           |          |\n",
      "|    ep_len_mean     | 200      |\n",
      "|    ep_rew_mean     | -592     |\n",
      "| time/              |          |\n",
      "|    episodes        | 16       |\n",
      "|    fps             | 13       |\n",
      "|    time_elapsed    | 245      |\n",
      "|    total_timesteps | 3200     |\n",
      "| train/             |          |\n",
      "|    actor_loss      | 51.7     |\n",
      "|    critic_loss     | 0.47     |\n",
      "|    ent_coef        | 0.0904   |\n",
      "|    ent_coef_loss   | 0.112    |\n",
      "|    learning_rate   | 0.000827 |\n",
      "|    n_updates       | 15393    |\n",
      "---------------------------------\n",
      "---------------------------------\n",
      "| rollout/           |          |\n",
      "|    ep_len_mean     | 200      |\n",
      "|    ep_rew_mean     | -510     |\n",
      "| time/              |          |\n",
      "|    episodes        | 20       |\n",
      "|    fps             | 11       |\n",
      "|    time_elapsed    | 335      |\n",
      "|    total_timesteps | 4000     |\n",
      "| train/             |          |\n",
      "|    actor_loss      | 44.7     |\n",
      "|    critic_loss     | 0.423    |\n",
      "|    ent_coef        | 0.0582   |\n",
      "|    ent_coef_loss   | -0.359   |\n",
      "|    learning_rate   | 0.000827 |\n",
      "|    n_updates       | 20993    |\n",
      "---------------------------------\n",
      "---------------------------------\n",
      "| rollout/           |          |\n",
      "|    ep_len_mean     | 200      |\n",
      "|    ep_rew_mean     | -450     |\n",
      "| time/              |          |\n",
      "|    episodes        | 24       |\n",
      "|    fps             | 11       |\n",
      "|    time_elapsed    | 420      |\n",
      "|    total_timesteps | 4800     |\n",
      "| train/             |          |\n",
      "|    actor_loss      | 41.3     |\n",
      "|    critic_loss     | 0.765    |\n",
      "|    ent_coef        | 0.0431   |\n",
      "|    ent_coef_loss   | 0.371    |\n",
      "|    learning_rate   | 0.000827 |\n",
      "|    n_updates       | 26593    |\n",
      "---------------------------------\n",
      "---------------------------------\n",
      "| rollout/           |          |\n",
      "|    ep_len_mean     | 200      |\n",
      "|    ep_rew_mean     | -408     |\n",
      "| time/              |          |\n",
      "|    episodes        | 28       |\n",
      "|    fps             | 10       |\n",
      "|    time_elapsed    | 514      |\n",
      "|    total_timesteps | 5600     |\n",
      "| train/             |          |\n",
      "|    actor_loss      | 32.7     |\n",
      "|    critic_loss     | 0.468    |\n",
      "|    ent_coef        | 0.0395   |\n",
      "|    ent_coef_loss   | 0.415    |\n",
      "|    learning_rate   | 0.000827 |\n",
      "|    n_updates       | 32193    |\n",
      "---------------------------------\n",
      "---------------------------------\n",
      "| rollout/           |          |\n",
      "|    ep_len_mean     | 200      |\n",
      "|    ep_rew_mean     | -390     |\n",
      "| time/              |          |\n",
      "|    episodes        | 32       |\n",
      "|    fps             | 10       |\n",
      "|    time_elapsed    | 603      |\n",
      "|    total_timesteps | 6400     |\n",
      "| train/             |          |\n",
      "|    actor_loss      | 32.8     |\n",
      "|    critic_loss     | 0.495    |\n",
      "|    ent_coef        | 0.0242   |\n",
      "|    ent_coef_loss   | -0.463   |\n",
      "|    learning_rate   | 0.000827 |\n",
      "|    n_updates       | 37793    |\n",
      "---------------------------------\n",
      "---------------------------------\n",
      "| rollout/           |          |\n",
      "|    ep_len_mean     | 200      |\n",
      "|    ep_rew_mean     | -363     |\n",
      "| time/              |          |\n",
      "|    episodes        | 36       |\n",
      "|    fps             | 10       |\n",
      "|    time_elapsed    | 693      |\n",
      "|    total_timesteps | 7200     |\n",
      "| train/             |          |\n",
      "|    actor_loss      | 32.3     |\n",
      "|    critic_loss     | 0.78     |\n",
      "|    ent_coef        | 0.0309   |\n",
      "|    ent_coef_loss   | -0.217   |\n",
      "|    learning_rate   | 0.000827 |\n",
      "|    n_updates       | 43393    |\n",
      "---------------------------------\n",
      "---------------------------------\n",
      "| rollout/           |          |\n",
      "|    ep_len_mean     | 200      |\n",
      "|    ep_rew_mean     | -337     |\n",
      "| time/              |          |\n",
      "|    episodes        | 40       |\n",
      "|    fps             | 10       |\n",
      "|    time_elapsed    | 778      |\n",
      "|    total_timesteps | 8000     |\n",
      "| train/             |          |\n",
      "|    actor_loss      | 29       |\n",
      "|    critic_loss     | 0.428    |\n",
      "|    ent_coef        | 0.0292   |\n",
      "|    ent_coef_loss   | 0.236    |\n",
      "|    learning_rate   | 0.000827 |\n",
      "|    n_updates       | 48993    |\n",
      "---------------------------------\n",
      "---------------------------------\n",
      "| rollout/           |          |\n",
      "|    ep_len_mean     | 200      |\n",
      "|    ep_rew_mean     | -320     |\n",
      "| time/              |          |\n",
      "|    episodes        | 44       |\n",
      "|    fps             | 10       |\n",
      "|    time_elapsed    | 861      |\n",
      "|    total_timesteps | 8800     |\n",
      "| train/             |          |\n",
      "|    actor_loss      | 24.1     |\n",
      "|    critic_loss     | 0.481    |\n",
      "|    ent_coef        | 0.0272   |\n",
      "|    ent_coef_loss   | -0.317   |\n",
      "|    learning_rate   | 0.000827 |\n",
      "|    n_updates       | 54593    |\n",
      "---------------------------------\n",
      "---------------------------------\n",
      "| rollout/           |          |\n",
      "|    ep_len_mean     | 200      |\n",
      "|    ep_rew_mean     | -308     |\n",
      "| time/              |          |\n",
      "|    episodes        | 48       |\n",
      "|    fps             | 10       |\n",
      "|    time_elapsed    | 944      |\n",
      "|    total_timesteps | 9600     |\n",
      "| train/             |          |\n",
      "|    actor_loss      | 26.2     |\n",
      "|    critic_loss     | 0.64     |\n",
      "|    ent_coef        | 0.0283   |\n",
      "|    ent_coef_loss   | -0.2     |\n",
      "|    learning_rate   | 0.000827 |\n",
      "|    n_updates       | 60193    |\n",
      "---------------------------------\n",
      "---------------------------------\n",
      "| rollout/           |          |\n",
      "|    ep_len_mean     | 200      |\n",
      "|    ep_rew_mean     | -297     |\n",
      "| time/              |          |\n",
      "|    episodes        | 52       |\n",
      "|    fps             | 10       |\n",
      "|    time_elapsed    | 1025     |\n",
      "|    total_timesteps | 10400    |\n",
      "| train/             |          |\n",
      "|    actor_loss      | 25.3     |\n",
      "|    critic_loss     | 0.244    |\n",
      "|    ent_coef        | 0.0175   |\n",
      "|    ent_coef_loss   | -0.0701  |\n",
      "|    learning_rate   | 0.000827 |\n",
      "|    n_updates       | 65793    |\n",
      "---------------------------------\n",
      "---------------------------------\n",
      "| rollout/           |          |\n",
      "|    ep_len_mean     | 200      |\n",
      "|    ep_rew_mean     | -294     |\n",
      "| time/              |          |\n",
      "|    episodes        | 56       |\n",
      "|    fps             | 10       |\n",
      "|    time_elapsed    | 1108     |\n",
      "|    total_timesteps | 11200    |\n",
      "| train/             |          |\n",
      "|    actor_loss      | 26.1     |\n",
      "|    critic_loss     | 0.512    |\n",
      "|    ent_coef        | 0.0186   |\n",
      "|    ent_coef_loss   | -0.416   |\n",
      "|    learning_rate   | 0.000827 |\n",
      "|    n_updates       | 71393    |\n",
      "---------------------------------\n",
      "---------------------------------\n",
      "| rollout/           |          |\n",
      "|    ep_len_mean     | 200      |\n",
      "|    ep_rew_mean     | -285     |\n",
      "| time/              |          |\n",
      "|    episodes        | 60       |\n",
      "|    fps             | 10       |\n",
      "|    time_elapsed    | 1191     |\n",
      "|    total_timesteps | 12000    |\n",
      "| train/             |          |\n",
      "|    actor_loss      | 22.8     |\n",
      "|    critic_loss     | 0.357    |\n",
      "|    ent_coef        | 0.0185   |\n",
      "|    ent_coef_loss   | -0.14    |\n",
      "|    learning_rate   | 0.000827 |\n",
      "|    n_updates       | 76993    |\n",
      "---------------------------------\n",
      "---------------------------------\n",
      "| rollout/           |          |\n",
      "|    ep_len_mean     | 200      |\n",
      "|    ep_rew_mean     | -281     |\n",
      "| time/              |          |\n",
      "|    episodes        | 64       |\n",
      "|    fps             | 10       |\n",
      "|    time_elapsed    | 1275     |\n",
      "|    total_timesteps | 12800    |\n",
      "| train/             |          |\n",
      "|    actor_loss      | 25.8     |\n",
      "|    critic_loss     | 0.696    |\n",
      "|    ent_coef        | 0.018    |\n",
      "|    ent_coef_loss   | 0.231    |\n",
      "|    learning_rate   | 0.000827 |\n",
      "|    n_updates       | 82593    |\n",
      "---------------------------------\n",
      "---------------------------------\n",
      "| rollout/           |          |\n",
      "|    ep_len_mean     | 200      |\n",
      "|    ep_rew_mean     | -274     |\n",
      "| time/              |          |\n",
      "|    episodes        | 68       |\n",
      "|    fps             | 9        |\n",
      "|    time_elapsed    | 1361     |\n",
      "|    total_timesteps | 13600    |\n",
      "| train/             |          |\n",
      "|    actor_loss      | 24.4     |\n",
      "|    critic_loss     | 0.522    |\n",
      "|    ent_coef        | 0.0183   |\n",
      "|    ent_coef_loss   | 0.196    |\n",
      "|    learning_rate   | 0.000827 |\n",
      "|    n_updates       | 88193    |\n",
      "---------------------------------\n",
      "---------------------------------\n",
      "| rollout/           |          |\n",
      "|    ep_len_mean     | 200      |\n",
      "|    ep_rew_mean     | -276     |\n",
      "| time/              |          |\n",
      "|    episodes        | 72       |\n",
      "|    fps             | 9        |\n",
      "|    time_elapsed    | 1445     |\n",
      "|    total_timesteps | 14400    |\n",
      "| train/             |          |\n",
      "|    actor_loss      | 21.5     |\n",
      "|    critic_loss     | 0.391    |\n",
      "|    ent_coef        | 0.0179   |\n",
      "|    ent_coef_loss   | -0.286   |\n",
      "|    learning_rate   | 0.000827 |\n",
      "|    n_updates       | 93793    |\n",
      "---------------------------------\n",
      "---------------------------------\n",
      "| rollout/           |          |\n",
      "|    ep_len_mean     | 200      |\n",
      "|    ep_rew_mean     | -277     |\n",
      "| time/              |          |\n",
      "|    episodes        | 76       |\n",
      "|    fps             | 9        |\n",
      "|    time_elapsed    | 1526     |\n",
      "|    total_timesteps | 15200    |\n",
      "| train/             |          |\n",
      "|    actor_loss      | 22.6     |\n",
      "|    critic_loss     | 0.504    |\n",
      "|    ent_coef        | 0.0154   |\n",
      "|    ent_coef_loss   | 0.446    |\n",
      "|    learning_rate   | 0.000827 |\n",
      "|    n_updates       | 99393    |\n",
      "---------------------------------\n",
      "---------------------------------\n",
      "| rollout/           |          |\n",
      "|    ep_len_mean     | 200      |\n",
      "|    ep_rew_mean     | -264     |\n",
      "| time/              |          |\n",
      "|    episodes        | 80       |\n",
      "|    fps             | 9        |\n",
      "|    time_elapsed    | 1612     |\n",
      "|    total_timesteps | 16000    |\n",
      "| train/             |          |\n",
      "|    actor_loss      | 20.9     |\n",
      "|    critic_loss     | 0.31     |\n",
      "|    ent_coef        | 0.0165   |\n",
      "|    ent_coef_loss   | -0.0779  |\n",
      "|    learning_rate   | 0.000827 |\n",
      "|    n_updates       | 104993   |\n",
      "---------------------------------\n",
      "---------------------------------\n",
      "| rollout/           |          |\n",
      "|    ep_len_mean     | 200      |\n",
      "|    ep_rew_mean     | -256     |\n",
      "| time/              |          |\n",
      "|    episodes        | 84       |\n",
      "|    fps             | 9        |\n",
      "|    time_elapsed    | 1697     |\n",
      "|    total_timesteps | 16800    |\n",
      "| train/             |          |\n",
      "|    actor_loss      | 20.6     |\n",
      "|    critic_loss     | 0.384    |\n",
      "|    ent_coef        | 0.0185   |\n",
      "|    ent_coef_loss   | -0.614   |\n",
      "|    learning_rate   | 0.000827 |\n",
      "|    n_updates       | 110593   |\n",
      "---------------------------------\n",
      "---------------------------------\n",
      "| rollout/           |          |\n",
      "|    ep_len_mean     | 200      |\n",
      "|    ep_rew_mean     | -254     |\n",
      "| time/              |          |\n",
      "|    episodes        | 88       |\n",
      "|    fps             | 9        |\n",
      "|    time_elapsed    | 1782     |\n",
      "|    total_timesteps | 17600    |\n",
      "| train/             |          |\n",
      "|    actor_loss      | 21.4     |\n",
      "|    critic_loss     | 0.904    |\n",
      "|    ent_coef        | 0.017    |\n",
      "|    ent_coef_loss   | 0.414    |\n",
      "|    learning_rate   | 0.000827 |\n",
      "|    n_updates       | 116193   |\n",
      "---------------------------------\n",
      "---------------------------------\n",
      "| rollout/           |          |\n",
      "|    ep_len_mean     | 200      |\n",
      "|    ep_rew_mean     | -253     |\n",
      "| time/              |          |\n",
      "|    episodes        | 92       |\n",
      "|    fps             | 9        |\n",
      "|    time_elapsed    | 1865     |\n",
      "|    total_timesteps | 18400    |\n",
      "| train/             |          |\n",
      "|    actor_loss      | 20.6     |\n",
      "|    critic_loss     | 0.395    |\n",
      "|    ent_coef        | 0.0197   |\n",
      "|    ent_coef_loss   | -0.0702  |\n",
      "|    learning_rate   | 0.000827 |\n",
      "|    n_updates       | 121793   |\n",
      "---------------------------------\n",
      "---------------------------------\n",
      "| rollout/           |          |\n",
      "|    ep_len_mean     | 200      |\n",
      "|    ep_rew_mean     | -254     |\n",
      "| time/              |          |\n",
      "|    episodes        | 96       |\n",
      "|    fps             | 9        |\n",
      "|    time_elapsed    | 1947     |\n",
      "|    total_timesteps | 19200    |\n",
      "| train/             |          |\n",
      "|    actor_loss      | 21.8     |\n",
      "|    critic_loss     | 0.461    |\n",
      "|    ent_coef        | 0.0144   |\n",
      "|    ent_coef_loss   | 0.233    |\n",
      "|    learning_rate   | 0.000827 |\n",
      "|    n_updates       | 127393   |\n",
      "---------------------------------\n",
      "---------------------------------\n",
      "| rollout/           |          |\n",
      "|    ep_len_mean     | 200      |\n",
      "|    ep_rew_mean     | -251     |\n",
      "| time/              |          |\n",
      "|    episodes        | 100      |\n",
      "|    fps             | 9        |\n",
      "|    time_elapsed    | 2030     |\n",
      "|    total_timesteps | 20000    |\n",
      "| train/             |          |\n",
      "|    actor_loss      | 20.7     |\n",
      "|    critic_loss     | 0.427    |\n",
      "|    ent_coef        | 0.0181   |\n",
      "|    ent_coef_loss   | 0.717    |\n",
      "|    learning_rate   | 0.000827 |\n",
      "|    n_updates       | 132993   |\n",
      "---------------------------------\n",
      "---------------------------------\n",
      "| rollout/           |          |\n",
      "|    ep_len_mean     | 200      |\n",
      "|    ep_rew_mean     | -220     |\n",
      "| time/              |          |\n",
      "|    episodes        | 104      |\n",
      "|    fps             | 9        |\n",
      "|    time_elapsed    | 2111     |\n",
      "|    total_timesteps | 20800    |\n",
      "| train/             |          |\n",
      "|    actor_loss      | 19.9     |\n",
      "|    critic_loss     | 0.463    |\n",
      "|    ent_coef        | 0.0144   |\n",
      "|    ent_coef_loss   | -0.316   |\n",
      "|    learning_rate   | 0.000827 |\n",
      "|    n_updates       | 138593   |\n",
      "---------------------------------\n",
      "---------------------------------\n",
      "| rollout/           |          |\n",
      "|    ep_len_mean     | 200      |\n",
      "|    ep_rew_mean     | -195     |\n",
      "| time/              |          |\n",
      "|    episodes        | 108      |\n",
      "|    fps             | 9        |\n",
      "|    time_elapsed    | 2193     |\n",
      "|    total_timesteps | 21600    |\n",
      "| train/             |          |\n",
      "|    actor_loss      | 23.9     |\n",
      "|    critic_loss     | 0.47     |\n",
      "|    ent_coef        | 0.014    |\n",
      "|    ent_coef_loss   | 0.242    |\n",
      "|    learning_rate   | 0.000827 |\n",
      "|    n_updates       | 144193   |\n",
      "---------------------------------\n",
      "---------------------------------\n",
      "| rollout/           |          |\n",
      "|    ep_len_mean     | 200      |\n",
      "|    ep_rew_mean     | -196     |\n",
      "| time/              |          |\n",
      "|    episodes        | 112      |\n",
      "|    fps             | 9        |\n",
      "|    time_elapsed    | 2273     |\n",
      "|    total_timesteps | 22400    |\n",
      "| train/             |          |\n",
      "|    actor_loss      | 19.7     |\n",
      "|    critic_loss     | 0.495    |\n",
      "|    ent_coef        | 0.0169   |\n",
      "|    ent_coef_loss   | -0.316   |\n",
      "|    learning_rate   | 0.000827 |\n",
      "|    n_updates       | 149793   |\n",
      "---------------------------------\n",
      "---------------------------------\n",
      "| rollout/           |          |\n",
      "|    ep_len_mean     | 200      |\n",
      "|    ep_rew_mean     | -196     |\n",
      "| time/              |          |\n",
      "|    episodes        | 116      |\n",
      "|    fps             | 9        |\n",
      "|    time_elapsed    | 2350     |\n",
      "|    total_timesteps | 23200    |\n",
      "| train/             |          |\n",
      "|    actor_loss      | 20.5     |\n",
      "|    critic_loss     | 0.317    |\n",
      "|    ent_coef        | 0.0167   |\n",
      "|    ent_coef_loss   | -0.888   |\n",
      "|    learning_rate   | 0.000827 |\n",
      "|    n_updates       | 155393   |\n",
      "---------------------------------\n",
      "---------------------------------\n",
      "| rollout/           |          |\n",
      "|    ep_len_mean     | 200      |\n",
      "|    ep_rew_mean     | -201     |\n",
      "| time/              |          |\n",
      "|    episodes        | 120      |\n",
      "|    fps             | 9        |\n",
      "|    time_elapsed    | 2426     |\n",
      "|    total_timesteps | 24000    |\n",
      "| train/             |          |\n",
      "|    actor_loss      | 21.4     |\n",
      "|    critic_loss     | 0.322    |\n",
      "|    ent_coef        | 0.0168   |\n",
      "|    ent_coef_loss   | -0.0897  |\n",
      "|    learning_rate   | 0.000827 |\n",
      "|    n_updates       | 160993   |\n",
      "---------------------------------\n",
      "---------------------------------\n",
      "| rollout/           |          |\n",
      "|    ep_len_mean     | 200      |\n",
      "|    ep_rew_mean     | -206     |\n",
      "| time/              |          |\n",
      "|    episodes        | 124      |\n",
      "|    fps             | 9        |\n",
      "|    time_elapsed    | 2508     |\n",
      "|    total_timesteps | 24800    |\n",
      "| train/             |          |\n",
      "|    actor_loss      | 20.3     |\n",
      "|    critic_loss     | 0.911    |\n",
      "|    ent_coef        | 0.0164   |\n",
      "|    ent_coef_loss   | 0.116    |\n",
      "|    learning_rate   | 0.000827 |\n",
      "|    n_updates       | 166593   |\n",
      "---------------------------------\n",
      "---------------------------------\n",
      "| rollout/           |          |\n",
      "|    ep_len_mean     | 200      |\n",
      "|    ep_rew_mean     | -204     |\n",
      "| time/              |          |\n",
      "|    episodes        | 128      |\n",
      "|    fps             | 9        |\n",
      "|    time_elapsed    | 2589     |\n",
      "|    total_timesteps | 25600    |\n",
      "| train/             |          |\n",
      "|    actor_loss      | 20.9     |\n",
      "|    critic_loss     | 0.403    |\n",
      "|    ent_coef        | 0.016    |\n",
      "|    ent_coef_loss   | 0.0645   |\n",
      "|    learning_rate   | 0.000827 |\n",
      "|    n_updates       | 172193   |\n",
      "---------------------------------\n",
      "---------------------------------\n",
      "| rollout/           |          |\n",
      "|    ep_len_mean     | 200      |\n",
      "|    ep_rew_mean     | -204     |\n",
      "| time/              |          |\n",
      "|    episodes        | 132      |\n",
      "|    fps             | 9        |\n",
      "|    time_elapsed    | 2667     |\n",
      "|    total_timesteps | 26400    |\n",
      "| train/             |          |\n",
      "|    actor_loss      | 19.3     |\n",
      "|    critic_loss     | 0.772    |\n",
      "|    ent_coef        | 0.0171   |\n",
      "|    ent_coef_loss   | -0.0226  |\n",
      "|    learning_rate   | 0.000827 |\n",
      "|    n_updates       | 177793   |\n",
      "---------------------------------\n",
      "---------------------------------\n",
      "| rollout/           |          |\n",
      "|    ep_len_mean     | 200      |\n",
      "|    ep_rew_mean     | -206     |\n",
      "| time/              |          |\n",
      "|    episodes        | 136      |\n",
      "|    fps             | 9        |\n",
      "|    time_elapsed    | 2748     |\n",
      "|    total_timesteps | 27200    |\n",
      "| train/             |          |\n",
      "|    actor_loss      | 20.1     |\n",
      "|    critic_loss     | 0.269    |\n",
      "|    ent_coef        | 0.0195   |\n",
      "|    ent_coef_loss   | -0.185   |\n",
      "|    learning_rate   | 0.000827 |\n",
      "|    n_updates       | 183393   |\n",
      "---------------------------------\n",
      "---------------------------------\n",
      "| rollout/           |          |\n",
      "|    ep_len_mean     | 200      |\n",
      "|    ep_rew_mean     | -211     |\n",
      "| time/              |          |\n",
      "|    episodes        | 140      |\n",
      "|    fps             | 9        |\n",
      "|    time_elapsed    | 2828     |\n",
      "|    total_timesteps | 28000    |\n",
      "| train/             |          |\n",
      "|    actor_loss      | 21.6     |\n",
      "|    critic_loss     | 0.641    |\n",
      "|    ent_coef        | 0.0227   |\n",
      "|    ent_coef_loss   | -0.138   |\n",
      "|    learning_rate   | 0.000827 |\n",
      "|    n_updates       | 188993   |\n",
      "---------------------------------\n",
      "---------------------------------\n",
      "| rollout/           |          |\n",
      "|    ep_len_mean     | 200      |\n",
      "|    ep_rew_mean     | -214     |\n",
      "| time/              |          |\n",
      "|    episodes        | 144      |\n",
      "|    fps             | 9        |\n",
      "|    time_elapsed    | 2915     |\n",
      "|    total_timesteps | 28800    |\n",
      "| train/             |          |\n",
      "|    actor_loss      | 19.1     |\n",
      "|    critic_loss     | 0.502    |\n",
      "|    ent_coef        | 0.0219   |\n",
      "|    ent_coef_loss   | 0.21     |\n",
      "|    learning_rate   | 0.000827 |\n",
      "|    n_updates       | 194593   |\n",
      "---------------------------------\n",
      "---------------------------------\n",
      "| rollout/           |          |\n",
      "|    ep_len_mean     | 200      |\n",
      "|    ep_rew_mean     | -214     |\n",
      "| time/              |          |\n",
      "|    episodes        | 148      |\n",
      "|    fps             | 9        |\n",
      "|    time_elapsed    | 3001     |\n",
      "|    total_timesteps | 29600    |\n",
      "| train/             |          |\n",
      "|    actor_loss      | 21.5     |\n",
      "|    critic_loss     | 0.525    |\n",
      "|    ent_coef        | 0.0201   |\n",
      "|    ent_coef_loss   | -0.264   |\n",
      "|    learning_rate   | 0.000827 |\n",
      "|    n_updates       | 200193   |\n",
      "---------------------------------\n",
      "---------------------------------\n",
      "| rollout/           |          |\n",
      "|    ep_len_mean     | 200      |\n",
      "|    ep_rew_mean     | -216     |\n",
      "| time/              |          |\n",
      "|    episodes        | 152      |\n",
      "|    fps             | 9        |\n",
      "|    time_elapsed    | 3085     |\n",
      "|    total_timesteps | 30400    |\n",
      "| train/             |          |\n",
      "|    actor_loss      | 21.7     |\n",
      "|    critic_loss     | 0.391    |\n",
      "|    ent_coef        | 0.0184   |\n",
      "|    ent_coef_loss   | -0.216   |\n",
      "|    learning_rate   | 0.000827 |\n",
      "|    n_updates       | 205793   |\n",
      "---------------------------------\n",
      "---------------------------------\n",
      "| rollout/           |          |\n",
      "|    ep_len_mean     | 200      |\n",
      "|    ep_rew_mean     | -213     |\n",
      "| time/              |          |\n",
      "|    episodes        | 156      |\n",
      "|    fps             | 9        |\n",
      "|    time_elapsed    | 3164     |\n",
      "|    total_timesteps | 31200    |\n",
      "| train/             |          |\n",
      "|    actor_loss      | 19.2     |\n",
      "|    critic_loss     | 0.394    |\n",
      "|    ent_coef        | 0.0226   |\n",
      "|    ent_coef_loss   | -0.166   |\n",
      "|    learning_rate   | 0.000827 |\n",
      "|    n_updates       | 211393   |\n",
      "---------------------------------\n",
      "---------------------------------\n",
      "| rollout/           |          |\n",
      "|    ep_len_mean     | 200      |\n",
      "|    ep_rew_mean     | -216     |\n",
      "| time/              |          |\n",
      "|    episodes        | 160      |\n",
      "|    fps             | 9        |\n",
      "|    time_elapsed    | 3244     |\n",
      "|    total_timesteps | 32000    |\n",
      "| train/             |          |\n",
      "|    actor_loss      | 21.6     |\n",
      "|    critic_loss     | 0.773    |\n",
      "|    ent_coef        | 0.0235   |\n",
      "|    ent_coef_loss   | -0.328   |\n",
      "|    learning_rate   | 0.000827 |\n",
      "|    n_updates       | 216993   |\n",
      "---------------------------------\n",
      "---------------------------------\n",
      "| rollout/           |          |\n",
      "|    ep_len_mean     | 200      |\n",
      "|    ep_rew_mean     | -216     |\n",
      "| time/              |          |\n",
      "|    episodes        | 164      |\n",
      "|    fps             | 9        |\n",
      "|    time_elapsed    | 3327     |\n",
      "|    total_timesteps | 32800    |\n",
      "| train/             |          |\n",
      "|    actor_loss      | 19.6     |\n",
      "|    critic_loss     | 0.716    |\n",
      "|    ent_coef        | 0.0224   |\n",
      "|    ent_coef_loss   | -0.294   |\n",
      "|    learning_rate   | 0.000827 |\n",
      "|    n_updates       | 222593   |\n",
      "---------------------------------\n",
      "---------------------------------\n",
      "| rollout/           |          |\n",
      "|    ep_len_mean     | 200      |\n",
      "|    ep_rew_mean     | -217     |\n",
      "| time/              |          |\n",
      "|    episodes        | 168      |\n",
      "|    fps             | 9        |\n",
      "|    time_elapsed    | 3408     |\n",
      "|    total_timesteps | 33600    |\n",
      "| train/             |          |\n",
      "|    actor_loss      | 20.5     |\n",
      "|    critic_loss     | 0.426    |\n",
      "|    ent_coef        | 0.0235   |\n",
      "|    ent_coef_loss   | 0.171    |\n",
      "|    learning_rate   | 0.000827 |\n",
      "|    n_updates       | 228193   |\n",
      "---------------------------------\n",
      "---------------------------------\n",
      "| rollout/           |          |\n",
      "|    ep_len_mean     | 200      |\n",
      "|    ep_rew_mean     | -211     |\n",
      "| time/              |          |\n",
      "|    episodes        | 172      |\n",
      "|    fps             | 9        |\n",
      "|    time_elapsed    | 3492     |\n",
      "|    total_timesteps | 34400    |\n",
      "| train/             |          |\n",
      "|    actor_loss      | 18.5     |\n",
      "|    critic_loss     | 0.381    |\n",
      "|    ent_coef        | 0.0232   |\n",
      "|    ent_coef_loss   | -0.513   |\n",
      "|    learning_rate   | 0.000827 |\n",
      "|    n_updates       | 233793   |\n",
      "---------------------------------\n",
      "---------------------------------\n",
      "| rollout/           |          |\n",
      "|    ep_len_mean     | 200      |\n",
      "|    ep_rew_mean     | -207     |\n",
      "| time/              |          |\n",
      "|    episodes        | 176      |\n",
      "|    fps             | 9        |\n",
      "|    time_elapsed    | 3577     |\n",
      "|    total_timesteps | 35200    |\n",
      "| train/             |          |\n",
      "|    actor_loss      | 21.7     |\n",
      "|    critic_loss     | 0.4      |\n",
      "|    ent_coef        | 0.0203   |\n",
      "|    ent_coef_loss   | 0.292    |\n",
      "|    learning_rate   | 0.000827 |\n",
      "|    n_updates       | 239393   |\n",
      "---------------------------------\n",
      "---------------------------------\n",
      "| rollout/           |          |\n",
      "|    ep_len_mean     | 200      |\n",
      "|    ep_rew_mean     | -221     |\n",
      "| time/              |          |\n",
      "|    episodes        | 180      |\n",
      "|    fps             | 9        |\n",
      "|    time_elapsed    | 3662     |\n",
      "|    total_timesteps | 36000    |\n",
      "| train/             |          |\n",
      "|    actor_loss      | 19.5     |\n",
      "|    critic_loss     | 0.36     |\n",
      "|    ent_coef        | 0.0182   |\n",
      "|    ent_coef_loss   | -0.64    |\n",
      "|    learning_rate   | 0.000827 |\n",
      "|    n_updates       | 244993   |\n",
      "---------------------------------\n",
      "---------------------------------\n",
      "| rollout/           |          |\n",
      "|    ep_len_mean     | 200      |\n",
      "|    ep_rew_mean     | -228     |\n",
      "| time/              |          |\n",
      "|    episodes        | 184      |\n",
      "|    fps             | 9        |\n",
      "|    time_elapsed    | 3745     |\n",
      "|    total_timesteps | 36800    |\n",
      "| train/             |          |\n",
      "|    actor_loss      | 22.1     |\n",
      "|    critic_loss     | 0.402    |\n",
      "|    ent_coef        | 0.00983  |\n",
      "|    ent_coef_loss   | 1.26     |\n",
      "|    learning_rate   | 0.000827 |\n",
      "|    n_updates       | 250593   |\n",
      "---------------------------------\n",
      "---------------------------------\n",
      "| rollout/           |          |\n",
      "|    ep_len_mean     | 200      |\n",
      "|    ep_rew_mean     | -228     |\n",
      "| time/              |          |\n",
      "|    episodes        | 188      |\n",
      "|    fps             | 9        |\n",
      "|    time_elapsed    | 3829     |\n",
      "|    total_timesteps | 37600    |\n",
      "| train/             |          |\n",
      "|    actor_loss      | 19.3     |\n",
      "|    critic_loss     | 0.507    |\n",
      "|    ent_coef        | 0.0101   |\n",
      "|    ent_coef_loss   | -0.368   |\n",
      "|    learning_rate   | 0.000827 |\n",
      "|    n_updates       | 256193   |\n",
      "---------------------------------\n",
      "---------------------------------\n",
      "| rollout/           |          |\n",
      "|    ep_len_mean     | 200      |\n",
      "|    ep_rew_mean     | -236     |\n",
      "| time/              |          |\n",
      "|    episodes        | 192      |\n",
      "|    fps             | 9        |\n",
      "|    time_elapsed    | 3912     |\n",
      "|    total_timesteps | 38400    |\n",
      "| train/             |          |\n",
      "|    actor_loss      | 22.5     |\n",
      "|    critic_loss     | 0.322    |\n",
      "|    ent_coef        | 0.0125   |\n",
      "|    ent_coef_loss   | -0.223   |\n",
      "|    learning_rate   | 0.000827 |\n",
      "|    n_updates       | 261793   |\n",
      "---------------------------------\n",
      "---------------------------------\n",
      "| rollout/           |          |\n",
      "|    ep_len_mean     | 200      |\n",
      "|    ep_rew_mean     | -232     |\n",
      "| time/              |          |\n",
      "|    episodes        | 196      |\n",
      "|    fps             | 9        |\n",
      "|    time_elapsed    | 3998     |\n",
      "|    total_timesteps | 39200    |\n",
      "| train/             |          |\n",
      "|    actor_loss      | 19.7     |\n",
      "|    critic_loss     | 0.592    |\n",
      "|    ent_coef        | 0.0146   |\n",
      "|    ent_coef_loss   | -0.577   |\n",
      "|    learning_rate   | 0.000827 |\n",
      "|    n_updates       | 267393   |\n",
      "---------------------------------\n",
      "---------------------------------\n",
      "| rollout/           |          |\n",
      "|    ep_len_mean     | 200      |\n",
      "|    ep_rew_mean     | -233     |\n",
      "| time/              |          |\n",
      "|    episodes        | 200      |\n",
      "|    fps             | 9        |\n",
      "|    time_elapsed    | 4086     |\n",
      "|    total_timesteps | 40000    |\n",
      "| train/             |          |\n",
      "|    actor_loss      | 20.7     |\n",
      "|    critic_loss     | 0.389    |\n",
      "|    ent_coef        | 0.0142   |\n",
      "|    ent_coef_loss   | 0.229    |\n",
      "|    learning_rate   | 0.000827 |\n",
      "|    n_updates       | 272993   |\n",
      "---------------------------------\n",
      "---------------------------------\n",
      "| rollout/           |          |\n",
      "|    ep_len_mean     | 200      |\n",
      "|    ep_rew_mean     | -232     |\n",
      "| time/              |          |\n",
      "|    episodes        | 204      |\n",
      "|    fps             | 9        |\n",
      "|    time_elapsed    | 4173     |\n",
      "|    total_timesteps | 40800    |\n",
      "| train/             |          |\n",
      "|    actor_loss      | 19.5     |\n",
      "|    critic_loss     | 0.937    |\n",
      "|    ent_coef        | 0.0134   |\n",
      "|    ent_coef_loss   | 0.416    |\n",
      "|    learning_rate   | 0.000827 |\n",
      "|    n_updates       | 278593   |\n",
      "---------------------------------\n",
      "---------------------------------\n",
      "| rollout/           |          |\n",
      "|    ep_len_mean     | 200      |\n",
      "|    ep_rew_mean     | -239     |\n",
      "| time/              |          |\n",
      "|    episodes        | 208      |\n",
      "|    fps             | 9        |\n",
      "|    time_elapsed    | 4258     |\n",
      "|    total_timesteps | 41600    |\n",
      "| train/             |          |\n",
      "|    actor_loss      | 21.2     |\n",
      "|    critic_loss     | 0.365    |\n",
      "|    ent_coef        | 0.0128   |\n",
      "|    ent_coef_loss   | -0.232   |\n",
      "|    learning_rate   | 0.000827 |\n",
      "|    n_updates       | 284193   |\n",
      "---------------------------------\n",
      "---------------------------------\n",
      "| rollout/           |          |\n",
      "|    ep_len_mean     | 200      |\n",
      "|    ep_rew_mean     | -239     |\n",
      "| time/              |          |\n",
      "|    episodes        | 212      |\n",
      "|    fps             | 9        |\n",
      "|    time_elapsed    | 4346     |\n",
      "|    total_timesteps | 42400    |\n",
      "| train/             |          |\n",
      "|    actor_loss      | 22.4     |\n",
      "|    critic_loss     | 0.516    |\n",
      "|    ent_coef        | 0.0138   |\n",
      "|    ent_coef_loss   | 0.484    |\n",
      "|    learning_rate   | 0.000827 |\n",
      "|    n_updates       | 289793   |\n",
      "---------------------------------\n",
      "---------------------------------\n",
      "| rollout/           |          |\n",
      "|    ep_len_mean     | 200      |\n",
      "|    ep_rew_mean     | -247     |\n",
      "| time/              |          |\n",
      "|    episodes        | 216      |\n",
      "|    fps             | 9        |\n",
      "|    time_elapsed    | 4434     |\n",
      "|    total_timesteps | 43200    |\n",
      "| train/             |          |\n",
      "|    actor_loss      | 19.4     |\n",
      "|    critic_loss     | 0.364    |\n",
      "|    ent_coef        | 0.0136   |\n",
      "|    ent_coef_loss   | -0.239   |\n",
      "|    learning_rate   | 0.000827 |\n",
      "|    n_updates       | 295393   |\n",
      "---------------------------------\n",
      "---------------------------------\n",
      "| rollout/           |          |\n",
      "|    ep_len_mean     | 200      |\n",
      "|    ep_rew_mean     | -247     |\n",
      "| time/              |          |\n",
      "|    episodes        | 220      |\n",
      "|    fps             | 9        |\n",
      "|    time_elapsed    | 4522     |\n",
      "|    total_timesteps | 44000    |\n",
      "| train/             |          |\n",
      "|    actor_loss      | 21.1     |\n",
      "|    critic_loss     | 0.375    |\n",
      "|    ent_coef        | 0.0155   |\n",
      "|    ent_coef_loss   | 0.447    |\n",
      "|    learning_rate   | 0.000827 |\n",
      "|    n_updates       | 300993   |\n",
      "---------------------------------\n",
      "---------------------------------\n",
      "| rollout/           |          |\n",
      "|    ep_len_mean     | 200      |\n",
      "|    ep_rew_mean     | -245     |\n",
      "| time/              |          |\n",
      "|    episodes        | 224      |\n",
      "|    fps             | 9        |\n",
      "|    time_elapsed    | 4608     |\n",
      "|    total_timesteps | 44800    |\n",
      "| train/             |          |\n",
      "|    actor_loss      | 19       |\n",
      "|    critic_loss     | 0.677    |\n",
      "|    ent_coef        | 0.0159   |\n",
      "|    ent_coef_loss   | -0.105   |\n",
      "|    learning_rate   | 0.000827 |\n",
      "|    n_updates       | 306593   |\n",
      "---------------------------------\n",
      "---------------------------------\n",
      "| rollout/           |          |\n",
      "|    ep_len_mean     | 200      |\n",
      "|    ep_rew_mean     | -254     |\n",
      "| time/              |          |\n",
      "|    episodes        | 228      |\n",
      "|    fps             | 9        |\n",
      "|    time_elapsed    | 4691     |\n",
      "|    total_timesteps | 45600    |\n",
      "| train/             |          |\n",
      "|    actor_loss      | 22.3     |\n",
      "|    critic_loss     | 0.628    |\n",
      "|    ent_coef        | 0.0129   |\n",
      "|    ent_coef_loss   | 0.163    |\n",
      "|    learning_rate   | 0.000827 |\n",
      "|    n_updates       | 312193   |\n",
      "---------------------------------\n",
      "---------------------------------\n",
      "| rollout/           |          |\n",
      "|    ep_len_mean     | 200      |\n",
      "|    ep_rew_mean     | -253     |\n",
      "| time/              |          |\n",
      "|    episodes        | 232      |\n",
      "|    fps             | 9        |\n",
      "|    time_elapsed    | 4772     |\n",
      "|    total_timesteps | 46400    |\n",
      "| train/             |          |\n",
      "|    actor_loss      | 21.1     |\n",
      "|    critic_loss     | 0.696    |\n",
      "|    ent_coef        | 0.0137   |\n",
      "|    ent_coef_loss   | 0.178    |\n",
      "|    learning_rate   | 0.000827 |\n",
      "|    n_updates       | 317793   |\n",
      "---------------------------------\n",
      "---------------------------------\n",
      "| rollout/           |          |\n",
      "|    ep_len_mean     | 200      |\n",
      "|    ep_rew_mean     | -251     |\n",
      "| time/              |          |\n",
      "|    episodes        | 236      |\n",
      "|    fps             | 9        |\n",
      "|    time_elapsed    | 4852     |\n",
      "|    total_timesteps | 47200    |\n",
      "| train/             |          |\n",
      "|    actor_loss      | 20.7     |\n",
      "|    critic_loss     | 0.507    |\n",
      "|    ent_coef        | 0.0128   |\n",
      "|    ent_coef_loss   | 0.108    |\n",
      "|    learning_rate   | 0.000827 |\n",
      "|    n_updates       | 323393   |\n",
      "---------------------------------\n",
      "---------------------------------\n",
      "| rollout/           |          |\n",
      "|    ep_len_mean     | 200      |\n",
      "|    ep_rew_mean     | -253     |\n",
      "| time/              |          |\n",
      "|    episodes        | 240      |\n",
      "|    fps             | 9        |\n",
      "|    time_elapsed    | 4928     |\n",
      "|    total_timesteps | 48000    |\n",
      "| train/             |          |\n",
      "|    actor_loss      | 21.4     |\n",
      "|    critic_loss     | 0.466    |\n",
      "|    ent_coef        | 0.0108   |\n",
      "|    ent_coef_loss   | -0.0646  |\n",
      "|    learning_rate   | 0.000827 |\n",
      "|    n_updates       | 328993   |\n",
      "---------------------------------\n",
      "---------------------------------\n",
      "| rollout/           |          |\n",
      "|    ep_len_mean     | 200      |\n",
      "|    ep_rew_mean     | -252     |\n",
      "| time/              |          |\n",
      "|    episodes        | 244      |\n",
      "|    fps             | 9        |\n",
      "|    time_elapsed    | 5002     |\n",
      "|    total_timesteps | 48800    |\n",
      "| train/             |          |\n",
      "|    actor_loss      | 21.5     |\n",
      "|    critic_loss     | 0.84     |\n",
      "|    ent_coef        | 0.0114   |\n",
      "|    ent_coef_loss   | -0.208   |\n",
      "|    learning_rate   | 0.000827 |\n",
      "|    n_updates       | 334593   |\n",
      "---------------------------------\n",
      "---------------------------------\n",
      "| rollout/           |          |\n",
      "|    ep_len_mean     | 200      |\n",
      "|    ep_rew_mean     | -257     |\n",
      "| time/              |          |\n",
      "|    episodes        | 248      |\n",
      "|    fps             | 9        |\n",
      "|    time_elapsed    | 5078     |\n",
      "|    total_timesteps | 49600    |\n",
      "| train/             |          |\n",
      "|    actor_loss      | 23       |\n",
      "|    critic_loss     | 0.463    |\n",
      "|    ent_coef        | 0.0112   |\n",
      "|    ent_coef_loss   | 0.728    |\n",
      "|    learning_rate   | 0.000827 |\n",
      "|    n_updates       | 340193   |\n",
      "---------------------------------\n",
      "---------------------------------\n",
      "| rollout/           |          |\n",
      "|    ep_len_mean     | 200      |\n",
      "|    ep_rew_mean     | -259     |\n",
      "| time/              |          |\n",
      "|    episodes        | 252      |\n",
      "|    fps             | 9        |\n",
      "|    time_elapsed    | 5155     |\n",
      "|    total_timesteps | 50400    |\n",
      "| train/             |          |\n",
      "|    actor_loss      | 20.4     |\n",
      "|    critic_loss     | 0.517    |\n",
      "|    ent_coef        | 0.0118   |\n",
      "|    ent_coef_loss   | -1.23    |\n",
      "|    learning_rate   | 0.000827 |\n",
      "|    n_updates       | 345793   |\n",
      "---------------------------------\n",
      "---------------------------------\n",
      "| rollout/           |          |\n",
      "|    ep_len_mean     | 200      |\n",
      "|    ep_rew_mean     | -260     |\n",
      "| time/              |          |\n",
      "|    episodes        | 256      |\n",
      "|    fps             | 9        |\n",
      "|    time_elapsed    | 5231     |\n",
      "|    total_timesteps | 51200    |\n",
      "| train/             |          |\n",
      "|    actor_loss      | 19.8     |\n",
      "|    critic_loss     | 0.451    |\n",
      "|    ent_coef        | 0.0118   |\n",
      "|    ent_coef_loss   | 0.214    |\n",
      "|    learning_rate   | 0.000827 |\n",
      "|    n_updates       | 351393   |\n",
      "---------------------------------\n",
      "---------------------------------\n",
      "| rollout/           |          |\n",
      "|    ep_len_mean     | 200      |\n",
      "|    ep_rew_mean     | -260     |\n",
      "| time/              |          |\n",
      "|    episodes        | 260      |\n",
      "|    fps             | 9        |\n",
      "|    time_elapsed    | 5307     |\n",
      "|    total_timesteps | 52000    |\n",
      "| train/             |          |\n",
      "|    actor_loss      | 20.8     |\n",
      "|    critic_loss     | 0.546    |\n",
      "|    ent_coef        | 0.0128   |\n",
      "|    ent_coef_loss   | -0.628   |\n",
      "|    learning_rate   | 0.000827 |\n",
      "|    n_updates       | 356993   |\n",
      "---------------------------------\n",
      "---------------------------------\n",
      "| rollout/           |          |\n",
      "|    ep_len_mean     | 200      |\n",
      "|    ep_rew_mean     | -259     |\n",
      "| time/              |          |\n",
      "|    episodes        | 264      |\n",
      "|    fps             | 9        |\n",
      "|    time_elapsed    | 5380     |\n",
      "|    total_timesteps | 52800    |\n",
      "| train/             |          |\n",
      "|    actor_loss      | 21.2     |\n",
      "|    critic_loss     | 0.421    |\n",
      "|    ent_coef        | 0.0153   |\n",
      "|    ent_coef_loss   | -0.23    |\n",
      "|    learning_rate   | 0.000827 |\n",
      "|    n_updates       | 362593   |\n",
      "---------------------------------\n",
      "---------------------------------\n",
      "| rollout/           |          |\n",
      "|    ep_len_mean     | 200      |\n",
      "|    ep_rew_mean     | -263     |\n",
      "| time/              |          |\n",
      "|    episodes        | 268      |\n",
      "|    fps             | 9        |\n",
      "|    time_elapsed    | 5453     |\n",
      "|    total_timesteps | 53600    |\n",
      "| train/             |          |\n",
      "|    actor_loss      | 20.7     |\n",
      "|    critic_loss     | 0.351    |\n",
      "|    ent_coef        | 0.0133   |\n",
      "|    ent_coef_loss   | 0.11     |\n",
      "|    learning_rate   | 0.000827 |\n",
      "|    n_updates       | 368193   |\n",
      "---------------------------------\n",
      "---------------------------------\n",
      "| rollout/           |          |\n",
      "|    ep_len_mean     | 200      |\n",
      "|    ep_rew_mean     | -267     |\n",
      "| time/              |          |\n",
      "|    episodes        | 272      |\n",
      "|    fps             | 9        |\n",
      "|    time_elapsed    | 5526     |\n",
      "|    total_timesteps | 54400    |\n",
      "| train/             |          |\n",
      "|    actor_loss      | 21.8     |\n",
      "|    critic_loss     | 0.332    |\n",
      "|    ent_coef        | 0.0146   |\n",
      "|    ent_coef_loss   | -0.76    |\n",
      "|    learning_rate   | 0.000827 |\n",
      "|    n_updates       | 373793   |\n",
      "---------------------------------\n",
      "---------------------------------\n",
      "| rollout/           |          |\n",
      "|    ep_len_mean     | 200      |\n",
      "|    ep_rew_mean     | -268     |\n",
      "| time/              |          |\n",
      "|    episodes        | 276      |\n",
      "|    fps             | 9        |\n",
      "|    time_elapsed    | 5600     |\n",
      "|    total_timesteps | 55200    |\n",
      "| train/             |          |\n",
      "|    actor_loss      | 18.1     |\n",
      "|    critic_loss     | 0.366    |\n",
      "|    ent_coef        | 0.014    |\n",
      "|    ent_coef_loss   | 0.169    |\n",
      "|    learning_rate   | 0.000827 |\n",
      "|    n_updates       | 379393   |\n",
      "---------------------------------\n",
      "---------------------------------\n",
      "| rollout/           |          |\n",
      "|    ep_len_mean     | 200      |\n",
      "|    ep_rew_mean     | -268     |\n",
      "| time/              |          |\n",
      "|    episodes        | 280      |\n",
      "|    fps             | 9        |\n",
      "|    time_elapsed    | 5673     |\n",
      "|    total_timesteps | 56000    |\n",
      "| train/             |          |\n",
      "|    actor_loss      | 19.8     |\n",
      "|    critic_loss     | 0.606    |\n",
      "|    ent_coef        | 0.0157   |\n",
      "|    ent_coef_loss   | 0.0216   |\n",
      "|    learning_rate   | 0.000827 |\n",
      "|    n_updates       | 384993   |\n",
      "---------------------------------\n",
      "---------------------------------\n",
      "| rollout/           |          |\n",
      "|    ep_len_mean     | 200      |\n",
      "|    ep_rew_mean     | -266     |\n",
      "| time/              |          |\n",
      "|    episodes        | 284      |\n",
      "|    fps             | 9        |\n",
      "|    time_elapsed    | 5747     |\n",
      "|    total_timesteps | 56800    |\n",
      "| train/             |          |\n",
      "|    actor_loss      | 21.7     |\n",
      "|    critic_loss     | 0.543    |\n",
      "|    ent_coef        | 0.0144   |\n",
      "|    ent_coef_loss   | -0.00605 |\n",
      "|    learning_rate   | 0.000827 |\n",
      "|    n_updates       | 390593   |\n",
      "---------------------------------\n",
      "---------------------------------\n",
      "| rollout/           |          |\n",
      "|    ep_len_mean     | 200      |\n",
      "|    ep_rew_mean     | -267     |\n",
      "| time/              |          |\n",
      "|    episodes        | 288      |\n",
      "|    fps             | 9        |\n",
      "|    time_elapsed    | 5829     |\n",
      "|    total_timesteps | 57600    |\n",
      "| train/             |          |\n",
      "|    actor_loss      | 22.6     |\n",
      "|    critic_loss     | 0.531    |\n",
      "|    ent_coef        | 0.014    |\n",
      "|    ent_coef_loss   | 0.465    |\n",
      "|    learning_rate   | 0.000827 |\n",
      "|    n_updates       | 396193   |\n",
      "---------------------------------\n",
      "---------------------------------\n",
      "| rollout/           |          |\n",
      "|    ep_len_mean     | 200      |\n",
      "|    ep_rew_mean     | -257     |\n",
      "| time/              |          |\n",
      "|    episodes        | 292      |\n",
      "|    fps             | 9        |\n",
      "|    time_elapsed    | 5911     |\n",
      "|    total_timesteps | 58400    |\n",
      "| train/             |          |\n",
      "|    actor_loss      | 22.1     |\n",
      "|    critic_loss     | 0.689    |\n",
      "|    ent_coef        | 0.0127   |\n",
      "|    ent_coef_loss   | 0.726    |\n",
      "|    learning_rate   | 0.000827 |\n",
      "|    n_updates       | 401793   |\n",
      "---------------------------------\n",
      "---------------------------------\n",
      "| rollout/           |          |\n",
      "|    ep_len_mean     | 200      |\n",
      "|    ep_rew_mean     | -261     |\n",
      "| time/              |          |\n",
      "|    episodes        | 296      |\n",
      "|    fps             | 9        |\n",
      "|    time_elapsed    | 5990     |\n",
      "|    total_timesteps | 59200    |\n",
      "| train/             |          |\n",
      "|    actor_loss      | 18.7     |\n",
      "|    critic_loss     | 0.323    |\n",
      "|    ent_coef        | 0.0105   |\n",
      "|    ent_coef_loss   | -0.805   |\n",
      "|    learning_rate   | 0.000827 |\n",
      "|    n_updates       | 407393   |\n",
      "---------------------------------\n",
      "---------------------------------\n",
      "| rollout/           |          |\n",
      "|    ep_len_mean     | 200      |\n",
      "|    ep_rew_mean     | -262     |\n",
      "| time/              |          |\n",
      "|    episodes        | 300      |\n",
      "|    fps             | 9        |\n",
      "|    time_elapsed    | 6068     |\n",
      "|    total_timesteps | 60000    |\n",
      "| train/             |          |\n",
      "|    actor_loss      | 21.8     |\n",
      "|    critic_loss     | 0.522    |\n",
      "|    ent_coef        | 0.00928  |\n",
      "|    ent_coef_loss   | 0.564    |\n",
      "|    learning_rate   | 0.000827 |\n",
      "|    n_updates       | 412993   |\n",
      "---------------------------------\n",
      "---------------------------------\n",
      "| rollout/           |          |\n",
      "|    ep_len_mean     | 200      |\n",
      "|    ep_rew_mean     | -259     |\n",
      "| time/              |          |\n",
      "|    episodes        | 304      |\n",
      "|    fps             | 9        |\n",
      "|    time_elapsed    | 6148     |\n",
      "|    total_timesteps | 60800    |\n",
      "| train/             |          |\n",
      "|    actor_loss      | 20       |\n",
      "|    critic_loss     | 0.878    |\n",
      "|    ent_coef        | 0.0113   |\n",
      "|    ent_coef_loss   | 0.908    |\n",
      "|    learning_rate   | 0.000827 |\n",
      "|    n_updates       | 418593   |\n",
      "---------------------------------\n",
      "---------------------------------\n",
      "| rollout/           |          |\n",
      "|    ep_len_mean     | 200      |\n",
      "|    ep_rew_mean     | -252     |\n",
      "| time/              |          |\n",
      "|    episodes        | 308      |\n",
      "|    fps             | 9        |\n",
      "|    time_elapsed    | 6233     |\n",
      "|    total_timesteps | 61600    |\n",
      "| train/             |          |\n",
      "|    actor_loss      | 19.7     |\n",
      "|    critic_loss     | 0.946    |\n",
      "|    ent_coef        | 0.0111   |\n",
      "|    ent_coef_loss   | -0.192   |\n",
      "|    learning_rate   | 0.000827 |\n",
      "|    n_updates       | 424193   |\n",
      "---------------------------------\n",
      "---------------------------------\n",
      "| rollout/           |          |\n",
      "|    ep_len_mean     | 200      |\n",
      "|    ep_rew_mean     | -255     |\n",
      "| time/              |          |\n",
      "|    episodes        | 312      |\n",
      "|    fps             | 9        |\n",
      "|    time_elapsed    | 6323     |\n",
      "|    total_timesteps | 62400    |\n",
      "| train/             |          |\n",
      "|    actor_loss      | 20.6     |\n",
      "|    critic_loss     | 0.403    |\n",
      "|    ent_coef        | 0.0136   |\n",
      "|    ent_coef_loss   | 0.407    |\n",
      "|    learning_rate   | 0.000827 |\n",
      "|    n_updates       | 429793   |\n",
      "---------------------------------\n",
      "---------------------------------\n",
      "| rollout/           |          |\n",
      "|    ep_len_mean     | 200      |\n",
      "|    ep_rew_mean     | -250     |\n",
      "| time/              |          |\n",
      "|    episodes        | 316      |\n",
      "|    fps             | 9        |\n",
      "|    time_elapsed    | 6410     |\n",
      "|    total_timesteps | 63200    |\n",
      "| train/             |          |\n",
      "|    actor_loss      | 17.3     |\n",
      "|    critic_loss     | 0.291    |\n",
      "|    ent_coef        | 0.0112   |\n",
      "|    ent_coef_loss   | -0.0964  |\n",
      "|    learning_rate   | 0.000827 |\n",
      "|    n_updates       | 435393   |\n",
      "---------------------------------\n",
      "---------------------------------\n",
      "| rollout/           |          |\n",
      "|    ep_len_mean     | 200      |\n",
      "|    ep_rew_mean     | -244     |\n",
      "| time/              |          |\n",
      "|    episodes        | 320      |\n",
      "|    fps             | 9        |\n",
      "|    time_elapsed    | 6499     |\n",
      "|    total_timesteps | 64000    |\n",
      "| train/             |          |\n",
      "|    actor_loss      | 22.1     |\n",
      "|    critic_loss     | 0.469    |\n",
      "|    ent_coef        | 0.0118   |\n",
      "|    ent_coef_loss   | -0.07    |\n",
      "|    learning_rate   | 0.000827 |\n",
      "|    n_updates       | 440993   |\n",
      "---------------------------------\n",
      "---------------------------------\n",
      "| rollout/           |          |\n",
      "|    ep_len_mean     | 200      |\n",
      "|    ep_rew_mean     | -245     |\n",
      "| time/              |          |\n",
      "|    episodes        | 324      |\n",
      "|    fps             | 9        |\n",
      "|    time_elapsed    | 6588     |\n",
      "|    total_timesteps | 64800    |\n",
      "| train/             |          |\n",
      "|    actor_loss      | 22.1     |\n",
      "|    critic_loss     | 0.978    |\n",
      "|    ent_coef        | 0.0108   |\n",
      "|    ent_coef_loss   | 0.261    |\n",
      "|    learning_rate   | 0.000827 |\n",
      "|    n_updates       | 446593   |\n",
      "---------------------------------\n",
      "---------------------------------\n",
      "| rollout/           |          |\n",
      "|    ep_len_mean     | 200      |\n",
      "|    ep_rew_mean     | -241     |\n",
      "| time/              |          |\n",
      "|    episodes        | 328      |\n",
      "|    fps             | 9        |\n",
      "|    time_elapsed    | 6678     |\n",
      "|    total_timesteps | 65600    |\n",
      "| train/             |          |\n",
      "|    actor_loss      | 21.6     |\n",
      "|    critic_loss     | 0.704    |\n",
      "|    ent_coef        | 0.0115   |\n",
      "|    ent_coef_loss   | 0.745    |\n",
      "|    learning_rate   | 0.000827 |\n",
      "|    n_updates       | 452193   |\n",
      "---------------------------------\n",
      "---------------------------------\n",
      "| rollout/           |          |\n",
      "|    ep_len_mean     | 200      |\n",
      "|    ep_rew_mean     | -243     |\n",
      "| time/              |          |\n",
      "|    episodes        | 332      |\n",
      "|    fps             | 9        |\n",
      "|    time_elapsed    | 6765     |\n",
      "|    total_timesteps | 66400    |\n",
      "| train/             |          |\n",
      "|    actor_loss      | 21.1     |\n",
      "|    critic_loss     | 0.678    |\n",
      "|    ent_coef        | 0.0105   |\n",
      "|    ent_coef_loss   | -0.102   |\n",
      "|    learning_rate   | 0.000827 |\n",
      "|    n_updates       | 457793   |\n",
      "---------------------------------\n",
      "---------------------------------\n",
      "| rollout/           |          |\n",
      "|    ep_len_mean     | 200      |\n",
      "|    ep_rew_mean     | -255     |\n",
      "| time/              |          |\n",
      "|    episodes        | 336      |\n",
      "|    fps             | 9        |\n",
      "|    time_elapsed    | 6852     |\n",
      "|    total_timesteps | 67200    |\n",
      "| train/             |          |\n",
      "|    actor_loss      | 20.7     |\n",
      "|    critic_loss     | 0.583    |\n",
      "|    ent_coef        | 0.0117   |\n",
      "|    ent_coef_loss   | 0.0552   |\n",
      "|    learning_rate   | 0.000827 |\n",
      "|    n_updates       | 463393   |\n",
      "---------------------------------\n",
      "---------------------------------\n",
      "| rollout/           |          |\n",
      "|    ep_len_mean     | 200      |\n",
      "|    ep_rew_mean     | -254     |\n",
      "| time/              |          |\n",
      "|    episodes        | 340      |\n",
      "|    fps             | 9        |\n",
      "|    time_elapsed    | 6939     |\n",
      "|    total_timesteps | 68000    |\n",
      "| train/             |          |\n",
      "|    actor_loss      | 21.2     |\n",
      "|    critic_loss     | 1.19     |\n",
      "|    ent_coef        | 0.0114   |\n",
      "|    ent_coef_loss   | -0.212   |\n",
      "|    learning_rate   | 0.000827 |\n",
      "|    n_updates       | 468993   |\n",
      "---------------------------------\n",
      "---------------------------------\n",
      "| rollout/           |          |\n",
      "|    ep_len_mean     | 200      |\n",
      "|    ep_rew_mean     | -253     |\n",
      "| time/              |          |\n",
      "|    episodes        | 344      |\n",
      "|    fps             | 9        |\n",
      "|    time_elapsed    | 7027     |\n",
      "|    total_timesteps | 68800    |\n",
      "| train/             |          |\n",
      "|    actor_loss      | 19.1     |\n",
      "|    critic_loss     | 1.13     |\n",
      "|    ent_coef        | 0.0105   |\n",
      "|    ent_coef_loss   | -0.474   |\n",
      "|    learning_rate   | 0.000827 |\n",
      "|    n_updates       | 474593   |\n",
      "---------------------------------\n",
      "---------------------------------\n",
      "| rollout/           |          |\n",
      "|    ep_len_mean     | 200      |\n",
      "|    ep_rew_mean     | -253     |\n",
      "| time/              |          |\n",
      "|    episodes        | 348      |\n",
      "|    fps             | 9        |\n",
      "|    time_elapsed    | 7116     |\n",
      "|    total_timesteps | 69600    |\n",
      "| train/             |          |\n",
      "|    actor_loss      | 22       |\n",
      "|    critic_loss     | 0.582    |\n",
      "|    ent_coef        | 0.0107   |\n",
      "|    ent_coef_loss   | 0.533    |\n",
      "|    learning_rate   | 0.000827 |\n",
      "|    n_updates       | 480193   |\n",
      "---------------------------------\n",
      "---------------------------------\n",
      "| rollout/           |          |\n",
      "|    ep_len_mean     | 200      |\n",
      "|    ep_rew_mean     | -255     |\n",
      "| time/              |          |\n",
      "|    episodes        | 352      |\n",
      "|    fps             | 9        |\n",
      "|    time_elapsed    | 7205     |\n",
      "|    total_timesteps | 70400    |\n",
      "| train/             |          |\n",
      "|    actor_loss      | 20       |\n",
      "|    critic_loss     | 0.593    |\n",
      "|    ent_coef        | 0.00921  |\n",
      "|    ent_coef_loss   | 0.197    |\n",
      "|    learning_rate   | 0.000827 |\n",
      "|    n_updates       | 485793   |\n",
      "---------------------------------\n",
      "---------------------------------\n",
      "| rollout/           |          |\n",
      "|    ep_len_mean     | 200      |\n",
      "|    ep_rew_mean     | -263     |\n",
      "| time/              |          |\n",
      "|    episodes        | 356      |\n",
      "|    fps             | 9        |\n",
      "|    time_elapsed    | 7294     |\n",
      "|    total_timesteps | 71200    |\n",
      "| train/             |          |\n",
      "|    actor_loss      | 21       |\n",
      "|    critic_loss     | 0.716    |\n",
      "|    ent_coef        | 0.0105   |\n",
      "|    ent_coef_loss   | -0.525   |\n",
      "|    learning_rate   | 0.000827 |\n",
      "|    n_updates       | 491393   |\n",
      "---------------------------------\n",
      "---------------------------------\n",
      "| rollout/           |          |\n",
      "|    ep_len_mean     | 200      |\n",
      "|    ep_rew_mean     | -261     |\n",
      "| time/              |          |\n",
      "|    episodes        | 360      |\n",
      "|    fps             | 9        |\n",
      "|    time_elapsed    | 7401     |\n",
      "|    total_timesteps | 72000    |\n",
      "| train/             |          |\n",
      "|    actor_loss      | 18.6     |\n",
      "|    critic_loss     | 0.407    |\n",
      "|    ent_coef        | 0.0104   |\n",
      "|    ent_coef_loss   | -0.233   |\n",
      "|    learning_rate   | 0.000827 |\n",
      "|    n_updates       | 496993   |\n",
      "---------------------------------\n",
      "---------------------------------\n",
      "| rollout/           |          |\n",
      "|    ep_len_mean     | 200      |\n",
      "|    ep_rew_mean     | -261     |\n",
      "| time/              |          |\n",
      "|    episodes        | 364      |\n",
      "|    fps             | 9        |\n",
      "|    time_elapsed    | 7497     |\n",
      "|    total_timesteps | 72800    |\n",
      "| train/             |          |\n",
      "|    actor_loss      | 20.1     |\n",
      "|    critic_loss     | 0.43     |\n",
      "|    ent_coef        | 0.011    |\n",
      "|    ent_coef_loss   | -0.605   |\n",
      "|    learning_rate   | 0.000827 |\n",
      "|    n_updates       | 502593   |\n",
      "---------------------------------\n",
      "---------------------------------\n",
      "| rollout/           |          |\n",
      "|    ep_len_mean     | 200      |\n",
      "|    ep_rew_mean     | -261     |\n",
      "| time/              |          |\n",
      "|    episodes        | 368      |\n",
      "|    fps             | 9        |\n",
      "|    time_elapsed    | 7591     |\n",
      "|    total_timesteps | 73600    |\n",
      "| train/             |          |\n",
      "|    actor_loss      | 22.4     |\n",
      "|    critic_loss     | 0.72     |\n",
      "|    ent_coef        | 0.0104   |\n",
      "|    ent_coef_loss   | 0.966    |\n",
      "|    learning_rate   | 0.000827 |\n",
      "|    n_updates       | 508193   |\n",
      "---------------------------------\n",
      "---------------------------------\n",
      "| rollout/           |          |\n",
      "|    ep_len_mean     | 200      |\n",
      "|    ep_rew_mean     | -265     |\n",
      "| time/              |          |\n",
      "|    episodes        | 372      |\n",
      "|    fps             | 9        |\n",
      "|    time_elapsed    | 7687     |\n",
      "|    total_timesteps | 74400    |\n",
      "| train/             |          |\n",
      "|    actor_loss      | 20.8     |\n",
      "|    critic_loss     | 7.87     |\n",
      "|    ent_coef        | 0.00955  |\n",
      "|    ent_coef_loss   | 0.704    |\n",
      "|    learning_rate   | 0.000827 |\n",
      "|    n_updates       | 513793   |\n",
      "---------------------------------\n",
      "---------------------------------\n",
      "| rollout/           |          |\n",
      "|    ep_len_mean     | 200      |\n",
      "|    ep_rew_mean     | -269     |\n",
      "| time/              |          |\n",
      "|    episodes        | 376      |\n",
      "|    fps             | 9        |\n",
      "|    time_elapsed    | 7784     |\n",
      "|    total_timesteps | 75200    |\n",
      "| train/             |          |\n",
      "|    actor_loss      | 20.7     |\n",
      "|    critic_loss     | 0.46     |\n",
      "|    ent_coef        | 0.0124   |\n",
      "|    ent_coef_loss   | -0.347   |\n",
      "|    learning_rate   | 0.000827 |\n",
      "|    n_updates       | 519393   |\n",
      "---------------------------------\n",
      "---------------------------------\n",
      "| rollout/           |          |\n",
      "|    ep_len_mean     | 200      |\n",
      "|    ep_rew_mean     | -260     |\n",
      "| time/              |          |\n",
      "|    episodes        | 380      |\n",
      "|    fps             | 9        |\n",
      "|    time_elapsed    | 7876     |\n",
      "|    total_timesteps | 76000    |\n",
      "| train/             |          |\n",
      "|    actor_loss      | 21.7     |\n",
      "|    critic_loss     | 0.313    |\n",
      "|    ent_coef        | 0.0148   |\n",
      "|    ent_coef_loss   | 0.778    |\n",
      "|    learning_rate   | 0.000827 |\n",
      "|    n_updates       | 524993   |\n",
      "---------------------------------\n",
      "---------------------------------\n",
      "| rollout/           |          |\n",
      "|    ep_len_mean     | 200      |\n",
      "|    ep_rew_mean     | -257     |\n",
      "| time/              |          |\n",
      "|    episodes        | 384      |\n",
      "|    fps             | 9        |\n",
      "|    time_elapsed    | 7973     |\n",
      "|    total_timesteps | 76800    |\n",
      "| train/             |          |\n",
      "|    actor_loss      | 20.1     |\n",
      "|    critic_loss     | 0.366    |\n",
      "|    ent_coef        | 0.0136   |\n",
      "|    ent_coef_loss   | -0.242   |\n",
      "|    learning_rate   | 0.000827 |\n",
      "|    n_updates       | 530593   |\n",
      "---------------------------------\n",
      "---------------------------------\n",
      "| rollout/           |          |\n",
      "|    ep_len_mean     | 200      |\n",
      "|    ep_rew_mean     | -252     |\n",
      "| time/              |          |\n",
      "|    episodes        | 388      |\n",
      "|    fps             | 9        |\n",
      "|    time_elapsed    | 8074     |\n",
      "|    total_timesteps | 77600    |\n",
      "| train/             |          |\n",
      "|    actor_loss      | 22.1     |\n",
      "|    critic_loss     | 0.75     |\n",
      "|    ent_coef        | 0.0126   |\n",
      "|    ent_coef_loss   | 0.463    |\n",
      "|    learning_rate   | 0.000827 |\n",
      "|    n_updates       | 536193   |\n",
      "---------------------------------\n",
      "---------------------------------\n",
      "| rollout/           |          |\n",
      "|    ep_len_mean     | 200      |\n",
      "|    ep_rew_mean     | -250     |\n",
      "| time/              |          |\n",
      "|    episodes        | 392      |\n",
      "|    fps             | 9        |\n",
      "|    time_elapsed    | 8171     |\n",
      "|    total_timesteps | 78400    |\n",
      "| train/             |          |\n",
      "|    actor_loss      | 21.6     |\n",
      "|    critic_loss     | 0.605    |\n",
      "|    ent_coef        | 0.0117   |\n",
      "|    ent_coef_loss   | 0.295    |\n",
      "|    learning_rate   | 0.000827 |\n",
      "|    n_updates       | 541793   |\n",
      "---------------------------------\n",
      "---------------------------------\n",
      "| rollout/           |          |\n",
      "|    ep_len_mean     | 200      |\n",
      "|    ep_rew_mean     | -248     |\n",
      "| time/              |          |\n",
      "|    episodes        | 396      |\n",
      "|    fps             | 9        |\n",
      "|    time_elapsed    | 8269     |\n",
      "|    total_timesteps | 79200    |\n",
      "| train/             |          |\n",
      "|    actor_loss      | 22.2     |\n",
      "|    critic_loss     | 0.311    |\n",
      "|    ent_coef        | 0.0101   |\n",
      "|    ent_coef_loss   | 0.602    |\n",
      "|    learning_rate   | 0.000827 |\n",
      "|    n_updates       | 547393   |\n",
      "---------------------------------\n",
      "---------------------------------\n",
      "| rollout/           |          |\n",
      "|    ep_len_mean     | 200      |\n",
      "|    ep_rew_mean     | -246     |\n",
      "| time/              |          |\n",
      "|    episodes        | 400      |\n",
      "|    fps             | 9        |\n",
      "|    time_elapsed    | 8364     |\n",
      "|    total_timesteps | 80000    |\n",
      "| train/             |          |\n",
      "|    actor_loss      | 21.1     |\n",
      "|    critic_loss     | 1.1      |\n",
      "|    ent_coef        | 0.0119   |\n",
      "|    ent_coef_loss   | 0.059    |\n",
      "|    learning_rate   | 0.000827 |\n",
      "|    n_updates       | 552993   |\n",
      "---------------------------------\n",
      "---------------------------------\n",
      "| rollout/           |          |\n",
      "|    ep_len_mean     | 200      |\n",
      "|    ep_rew_mean     | -246     |\n",
      "| time/              |          |\n",
      "|    episodes        | 404      |\n",
      "|    fps             | 9        |\n",
      "|    time_elapsed    | 8459     |\n",
      "|    total_timesteps | 80800    |\n",
      "| train/             |          |\n",
      "|    actor_loss      | 20.2     |\n",
      "|    critic_loss     | 0.424    |\n",
      "|    ent_coef        | 0.0104   |\n",
      "|    ent_coef_loss   | 0.367    |\n",
      "|    learning_rate   | 0.000827 |\n",
      "|    n_updates       | 558593   |\n",
      "---------------------------------\n",
      "---------------------------------\n",
      "| rollout/           |          |\n",
      "|    ep_len_mean     | 200      |\n",
      "|    ep_rew_mean     | -241     |\n",
      "| time/              |          |\n",
      "|    episodes        | 408      |\n",
      "|    fps             | 9        |\n",
      "|    time_elapsed    | 8556     |\n",
      "|    total_timesteps | 81600    |\n",
      "| train/             |          |\n",
      "|    actor_loss      | 21       |\n",
      "|    critic_loss     | 0.338    |\n",
      "|    ent_coef        | 0.00782  |\n",
      "|    ent_coef_loss   | 0.203    |\n",
      "|    learning_rate   | 0.000827 |\n",
      "|    n_updates       | 564193   |\n",
      "---------------------------------\n",
      "---------------------------------\n",
      "| rollout/           |          |\n",
      "|    ep_len_mean     | 200      |\n",
      "|    ep_rew_mean     | -237     |\n",
      "| time/              |          |\n",
      "|    episodes        | 412      |\n",
      "|    fps             | 9        |\n",
      "|    time_elapsed    | 8647     |\n",
      "|    total_timesteps | 82400    |\n",
      "| train/             |          |\n",
      "|    actor_loss      | 18.4     |\n",
      "|    critic_loss     | 0.318    |\n",
      "|    ent_coef        | 0.00912  |\n",
      "|    ent_coef_loss   | 0.0598   |\n",
      "|    learning_rate   | 0.000827 |\n",
      "|    n_updates       | 569793   |\n",
      "---------------------------------\n",
      "---------------------------------\n",
      "| rollout/           |          |\n",
      "|    ep_len_mean     | 200      |\n",
      "|    ep_rew_mean     | -234     |\n",
      "| time/              |          |\n",
      "|    episodes        | 416      |\n",
      "|    fps             | 9        |\n",
      "|    time_elapsed    | 8741     |\n",
      "|    total_timesteps | 83200    |\n",
      "| train/             |          |\n",
      "|    actor_loss      | 21.6     |\n",
      "|    critic_loss     | 0.552    |\n",
      "|    ent_coef        | 0.00941  |\n",
      "|    ent_coef_loss   | 0.239    |\n",
      "|    learning_rate   | 0.000827 |\n",
      "|    n_updates       | 575393   |\n",
      "---------------------------------\n",
      "---------------------------------\n",
      "| rollout/           |          |\n",
      "|    ep_len_mean     | 200      |\n",
      "|    ep_rew_mean     | -241     |\n",
      "| time/              |          |\n",
      "|    episodes        | 420      |\n",
      "|    fps             | 9        |\n",
      "|    time_elapsed    | 8832     |\n",
      "|    total_timesteps | 84000    |\n",
      "| train/             |          |\n",
      "|    actor_loss      | 21.5     |\n",
      "|    critic_loss     | 0.451    |\n",
      "|    ent_coef        | 0.00846  |\n",
      "|    ent_coef_loss   | -0.373   |\n",
      "|    learning_rate   | 0.000827 |\n",
      "|    n_updates       | 580993   |\n",
      "---------------------------------\n",
      "---------------------------------\n",
      "| rollout/           |          |\n",
      "|    ep_len_mean     | 200      |\n",
      "|    ep_rew_mean     | -239     |\n",
      "| time/              |          |\n",
      "|    episodes        | 424      |\n",
      "|    fps             | 9        |\n",
      "|    time_elapsed    | 8925     |\n",
      "|    total_timesteps | 84800    |\n",
      "| train/             |          |\n",
      "|    actor_loss      | 18.7     |\n",
      "|    critic_loss     | 0.413    |\n",
      "|    ent_coef        | 0.00957  |\n",
      "|    ent_coef_loss   | -0.552   |\n",
      "|    learning_rate   | 0.000827 |\n",
      "|    n_updates       | 586593   |\n",
      "---------------------------------\n",
      "---------------------------------\n",
      "| rollout/           |          |\n",
      "|    ep_len_mean     | 200      |\n",
      "|    ep_rew_mean     | -236     |\n",
      "| time/              |          |\n",
      "|    episodes        | 428      |\n",
      "|    fps             | 9        |\n",
      "|    time_elapsed    | 9013     |\n",
      "|    total_timesteps | 85600    |\n",
      "| train/             |          |\n",
      "|    actor_loss      | 19.3     |\n",
      "|    critic_loss     | 0.735    |\n",
      "|    ent_coef        | 0.00987  |\n",
      "|    ent_coef_loss   | -0.429   |\n",
      "|    learning_rate   | 0.000827 |\n",
      "|    n_updates       | 592193   |\n",
      "---------------------------------\n",
      "---------------------------------\n",
      "| rollout/           |          |\n",
      "|    ep_len_mean     | 200      |\n",
      "|    ep_rew_mean     | -233     |\n",
      "| time/              |          |\n",
      "|    episodes        | 432      |\n",
      "|    fps             | 9        |\n",
      "|    time_elapsed    | 9101     |\n",
      "|    total_timesteps | 86400    |\n",
      "| train/             |          |\n",
      "|    actor_loss      | 19       |\n",
      "|    critic_loss     | 0.454    |\n",
      "|    ent_coef        | 0.00983  |\n",
      "|    ent_coef_loss   | 0.506    |\n",
      "|    learning_rate   | 0.000827 |\n",
      "|    n_updates       | 597793   |\n",
      "---------------------------------\n",
      "---------------------------------\n",
      "| rollout/           |          |\n",
      "|    ep_len_mean     | 200      |\n",
      "|    ep_rew_mean     | -228     |\n",
      "| time/              |          |\n",
      "|    episodes        | 436      |\n",
      "|    fps             | 9        |\n",
      "|    time_elapsed    | 9184     |\n",
      "|    total_timesteps | 87200    |\n",
      "| train/             |          |\n",
      "|    actor_loss      | 19.8     |\n",
      "|    critic_loss     | 0.343    |\n",
      "|    ent_coef        | 0.0102   |\n",
      "|    ent_coef_loss   | -0.476   |\n",
      "|    learning_rate   | 0.000827 |\n",
      "|    n_updates       | 603393   |\n",
      "---------------------------------\n",
      "---------------------------------\n",
      "| rollout/           |          |\n",
      "|    ep_len_mean     | 200      |\n",
      "|    ep_rew_mean     | -230     |\n",
      "| time/              |          |\n",
      "|    episodes        | 440      |\n",
      "|    fps             | 9        |\n",
      "|    time_elapsed    | 9264     |\n",
      "|    total_timesteps | 88000    |\n",
      "| train/             |          |\n",
      "|    actor_loss      | 20.6     |\n",
      "|    critic_loss     | 1.24     |\n",
      "|    ent_coef        | 0.00902  |\n",
      "|    ent_coef_loss   | 0.0372   |\n",
      "|    learning_rate   | 0.000827 |\n",
      "|    n_updates       | 608993   |\n",
      "---------------------------------\n",
      "---------------------------------\n",
      "| rollout/           |          |\n",
      "|    ep_len_mean     | 200      |\n",
      "|    ep_rew_mean     | -235     |\n",
      "| time/              |          |\n",
      "|    episodes        | 444      |\n",
      "|    fps             | 9        |\n",
      "|    time_elapsed    | 9345     |\n",
      "|    total_timesteps | 88800    |\n",
      "| train/             |          |\n",
      "|    actor_loss      | 21.6     |\n",
      "|    critic_loss     | 0.994    |\n",
      "|    ent_coef        | 0.00777  |\n",
      "|    ent_coef_loss   | -0.187   |\n",
      "|    learning_rate   | 0.000827 |\n",
      "|    n_updates       | 614593   |\n",
      "---------------------------------\n",
      "---------------------------------\n",
      "| rollout/           |          |\n",
      "|    ep_len_mean     | 200      |\n",
      "|    ep_rew_mean     | -230     |\n",
      "| time/              |          |\n",
      "|    episodes        | 448      |\n",
      "|    fps             | 9        |\n",
      "|    time_elapsed    | 9427     |\n",
      "|    total_timesteps | 89600    |\n",
      "| train/             |          |\n",
      "|    actor_loss      | 20.5     |\n",
      "|    critic_loss     | 0.367    |\n",
      "|    ent_coef        | 0.00962  |\n",
      "|    ent_coef_loss   | 0.139    |\n",
      "|    learning_rate   | 0.000827 |\n",
      "|    n_updates       | 620193   |\n",
      "---------------------------------\n",
      "---------------------------------\n",
      "| rollout/           |          |\n",
      "|    ep_len_mean     | 200      |\n",
      "|    ep_rew_mean     | -226     |\n",
      "| time/              |          |\n",
      "|    episodes        | 452      |\n",
      "|    fps             | 9        |\n",
      "|    time_elapsed    | 9512     |\n",
      "|    total_timesteps | 90400    |\n",
      "| train/             |          |\n",
      "|    actor_loss      | 18.9     |\n",
      "|    critic_loss     | 0.337    |\n",
      "|    ent_coef        | 0.00867  |\n",
      "|    ent_coef_loss   | 0.193    |\n",
      "|    learning_rate   | 0.000827 |\n",
      "|    n_updates       | 625793   |\n",
      "---------------------------------\n",
      "---------------------------------\n",
      "| rollout/           |          |\n",
      "|    ep_len_mean     | 200      |\n",
      "|    ep_rew_mean     | -219     |\n",
      "| time/              |          |\n",
      "|    episodes        | 456      |\n",
      "|    fps             | 9        |\n",
      "|    time_elapsed    | 9596     |\n",
      "|    total_timesteps | 91200    |\n",
      "| train/             |          |\n",
      "|    actor_loss      | 20.3     |\n",
      "|    critic_loss     | 0.289    |\n",
      "|    ent_coef        | 0.00913  |\n",
      "|    ent_coef_loss   | 0.24     |\n",
      "|    learning_rate   | 0.000827 |\n",
      "|    n_updates       | 631393   |\n",
      "---------------------------------\n",
      "---------------------------------\n",
      "| rollout/           |          |\n",
      "|    ep_len_mean     | 200      |\n",
      "|    ep_rew_mean     | -214     |\n",
      "| time/              |          |\n",
      "|    episodes        | 460      |\n",
      "|    fps             | 9        |\n",
      "|    time_elapsed    | 9680     |\n",
      "|    total_timesteps | 92000    |\n",
      "| train/             |          |\n",
      "|    actor_loss      | 22.5     |\n",
      "|    critic_loss     | 0.39     |\n",
      "|    ent_coef        | 0.00838  |\n",
      "|    ent_coef_loss   | 0.198    |\n",
      "|    learning_rate   | 0.000827 |\n",
      "|    n_updates       | 636993   |\n",
      "---------------------------------\n",
      "---------------------------------\n",
      "| rollout/           |          |\n",
      "|    ep_len_mean     | 200      |\n",
      "|    ep_rew_mean     | -214     |\n",
      "| time/              |          |\n",
      "|    episodes        | 464      |\n",
      "|    fps             | 9        |\n",
      "|    time_elapsed    | 9764     |\n",
      "|    total_timesteps | 92800    |\n",
      "| train/             |          |\n",
      "|    actor_loss      | 18.7     |\n",
      "|    critic_loss     | 0.336    |\n",
      "|    ent_coef        | 0.00926  |\n",
      "|    ent_coef_loss   | -0.419   |\n",
      "|    learning_rate   | 0.000827 |\n",
      "|    n_updates       | 642593   |\n",
      "---------------------------------\n",
      "---------------------------------\n",
      "| rollout/           |          |\n",
      "|    ep_len_mean     | 200      |\n",
      "|    ep_rew_mean     | -213     |\n",
      "| time/              |          |\n",
      "|    episodes        | 468      |\n",
      "|    fps             | 9        |\n",
      "|    time_elapsed    | 9850     |\n",
      "|    total_timesteps | 93600    |\n",
      "| train/             |          |\n",
      "|    actor_loss      | 21.4     |\n",
      "|    critic_loss     | 0.423    |\n",
      "|    ent_coef        | 0.0106   |\n",
      "|    ent_coef_loss   | 0.207    |\n",
      "|    learning_rate   | 0.000827 |\n",
      "|    n_updates       | 648193   |\n",
      "---------------------------------\n",
      "---------------------------------\n",
      "| rollout/           |          |\n",
      "|    ep_len_mean     | 200      |\n",
      "|    ep_rew_mean     | -211     |\n",
      "| time/              |          |\n",
      "|    episodes        | 472      |\n",
      "|    fps             | 9        |\n",
      "|    time_elapsed    | 9933     |\n",
      "|    total_timesteps | 94400    |\n",
      "| train/             |          |\n",
      "|    actor_loss      | 21.9     |\n",
      "|    critic_loss     | 0.315    |\n",
      "|    ent_coef        | 0.00849  |\n",
      "|    ent_coef_loss   | -0.521   |\n",
      "|    learning_rate   | 0.000827 |\n",
      "|    n_updates       | 653793   |\n",
      "---------------------------------\n",
      "---------------------------------\n",
      "| rollout/           |          |\n",
      "|    ep_len_mean     | 200      |\n",
      "|    ep_rew_mean     | -212     |\n",
      "| time/              |          |\n",
      "|    episodes        | 476      |\n",
      "|    fps             | 9        |\n",
      "|    time_elapsed    | 10017    |\n",
      "|    total_timesteps | 95200    |\n",
      "| train/             |          |\n",
      "|    actor_loss      | 19.1     |\n",
      "|    critic_loss     | 1.98     |\n",
      "|    ent_coef        | 0.00935  |\n",
      "|    ent_coef_loss   | 0.791    |\n",
      "|    learning_rate   | 0.000827 |\n",
      "|    n_updates       | 659393   |\n",
      "---------------------------------\n",
      "---------------------------------\n",
      "| rollout/           |          |\n",
      "|    ep_len_mean     | 200      |\n",
      "|    ep_rew_mean     | -215     |\n",
      "| time/              |          |\n",
      "|    episodes        | 480      |\n",
      "|    fps             | 9        |\n",
      "|    time_elapsed    | 10103    |\n",
      "|    total_timesteps | 96000    |\n",
      "| train/             |          |\n",
      "|    actor_loss      | 18.9     |\n",
      "|    critic_loss     | 0.294    |\n",
      "|    ent_coef        | 0.00865  |\n",
      "|    ent_coef_loss   | 0.151    |\n",
      "|    learning_rate   | 0.000827 |\n",
      "|    n_updates       | 664993   |\n",
      "---------------------------------\n",
      "---------------------------------\n",
      "| rollout/           |          |\n",
      "|    ep_len_mean     | 200      |\n",
      "|    ep_rew_mean     | -221     |\n",
      "| time/              |          |\n",
      "|    episodes        | 484      |\n",
      "|    fps             | 9        |\n",
      "|    time_elapsed    | 10191    |\n",
      "|    total_timesteps | 96800    |\n",
      "| train/             |          |\n",
      "|    actor_loss      | 19       |\n",
      "|    critic_loss     | 0.454    |\n",
      "|    ent_coef        | 0.00889  |\n",
      "|    ent_coef_loss   | -0.132   |\n",
      "|    learning_rate   | 0.000827 |\n",
      "|    n_updates       | 670593   |\n",
      "---------------------------------\n",
      "---------------------------------\n",
      "| rollout/           |          |\n",
      "|    ep_len_mean     | 200      |\n",
      "|    ep_rew_mean     | -228     |\n",
      "| time/              |          |\n",
      "|    episodes        | 488      |\n",
      "|    fps             | 9        |\n",
      "|    time_elapsed    | 10277    |\n",
      "|    total_timesteps | 97600    |\n",
      "| train/             |          |\n",
      "|    actor_loss      | 20.5     |\n",
      "|    critic_loss     | 0.394    |\n",
      "|    ent_coef        | 0.00819  |\n",
      "|    ent_coef_loss   | 0.225    |\n",
      "|    learning_rate   | 0.000827 |\n",
      "|    n_updates       | 676193   |\n",
      "---------------------------------\n",
      "---------------------------------\n",
      "| rollout/           |          |\n",
      "|    ep_len_mean     | 200      |\n",
      "|    ep_rew_mean     | -231     |\n",
      "| time/              |          |\n",
      "|    episodes        | 492      |\n",
      "|    fps             | 9        |\n",
      "|    time_elapsed    | 10363    |\n",
      "|    total_timesteps | 98400    |\n",
      "| train/             |          |\n",
      "|    actor_loss      | 18.8     |\n",
      "|    critic_loss     | 0.389    |\n",
      "|    ent_coef        | 0.00891  |\n",
      "|    ent_coef_loss   | -0.559   |\n",
      "|    learning_rate   | 0.000827 |\n",
      "|    n_updates       | 681793   |\n",
      "---------------------------------\n",
      "---------------------------------\n",
      "| rollout/           |          |\n",
      "|    ep_len_mean     | 200      |\n",
      "|    ep_rew_mean     | -233     |\n",
      "| time/              |          |\n",
      "|    episodes        | 496      |\n",
      "|    fps             | 9        |\n",
      "|    time_elapsed    | 10451    |\n",
      "|    total_timesteps | 99200    |\n",
      "| train/             |          |\n",
      "|    actor_loss      | 17.4     |\n",
      "|    critic_loss     | 0.233    |\n",
      "|    ent_coef        | 0.00892  |\n",
      "|    ent_coef_loss   | -0.797   |\n",
      "|    learning_rate   | 0.000827 |\n",
      "|    n_updates       | 687393   |\n",
      "---------------------------------\n",
      "---------------------------------\n",
      "| rollout/           |          |\n",
      "|    ep_len_mean     | 200      |\n",
      "|    ep_rew_mean     | -239     |\n",
      "| time/              |          |\n",
      "|    episodes        | 500      |\n",
      "|    fps             | 9        |\n",
      "|    time_elapsed    | 10537    |\n",
      "|    total_timesteps | 100000   |\n",
      "| train/             |          |\n",
      "|    actor_loss      | 19.6     |\n",
      "|    critic_loss     | 0.779    |\n",
      "|    ent_coef        | 0.0101   |\n",
      "|    ent_coef_loss   | -0.262   |\n",
      "|    learning_rate   | 0.000827 |\n",
      "|    n_updates       | 692993   |\n",
      "---------------------------------\n",
      "Best model trained and saved.\n"
     ]
    }
   ],
   "source": [
    "import json\n",
    "\n",
    "# Load the best hyperparameters\n",
    "\n",
    "best_hyperparams = study.best_trial.params\n",
    "\n",
    "# Create the environment\n",
    "env = DummyVecEnv([lambda: Monitor(gym.make(\"Pendulum-v1\"))])\n",
    "\n",
    "# Add noise configuration\n",
    "noise_type = best_hyperparams.pop('noise_type')\n",
    "noise_std = best_hyperparams.pop('noise_std')\n",
    "if noise_type == 'normal':\n",
    "    action_noise = NormalActionNoise(mean=np.zeros(1), sigma=noise_std * np.ones(1))\n",
    "else:\n",
    "    action_noise = OrnsteinUhlenbeckActionNoise(mean=np.zeros(1), sigma=noise_std * np.ones(1))\n",
    "\n",
    "# Train the model\n",
    "policy_kwargs = {\"net_arch\": best_hyperparams.pop('net_arch')}\n",
    "best_model = SAC(\"MlpPolicy\", env, action_noise=action_noise, policy_kwargs=policy_kwargs, **best_hyperparams, verbose=1)\n",
    "best_model.learn(total_timesteps=100000)\n",
    "\n",
    "# Save the model\n",
    "best_model.save(f\"./logs/{algo}/best_model.zip\")\n",
    "print(\"Best model trained and saved.\")"
   ]
  },
  {
   "cell_type": "code",
   "execution_count": 12,
   "id": "2e7a9c48",
   "metadata": {},
   "outputs": [
    {
     "name": "stdout",
     "output_type": "stream",
     "text": [
      "Total reward: -231.86\n"
     ]
    }
   ],
   "source": [
    "import gymnasium as gym\n",
    "from stable_baselines3 import SAC\n",
    "\n",
    "# 1. Load the best model\n",
    "algo = 'SAC'  # Make sure this matches your algorithm name\n",
    "best_model = SAC.load(f\"./logs/{algo}/best_model.zip\")\n",
    "\n",
    "# 2. Create the environment\n",
    "env = gym.make(\"Pendulum-v1\", render_mode=\"human\")  # Add render_mode here\n",
    "\n",
    "# 3. Run the model\n",
    "try:\n",
    "    obs, _ = env.reset()  # New Gymnasium API returns (obs, info)\n",
    "    done = False\n",
    "    total_reward = 0\n",
    "    \n",
    "    while not done:\n",
    "        action, _ = best_model.predict(obs, deterministic=True)\n",
    "        obs, reward, terminated, truncated, _ = env.step(action)  # 5 returns in Gymnasium\n",
    "        done = terminated or truncated\n",
    "        total_reward += reward\n",
    "        \n",
    "    print(f\"Total reward: {total_reward:.2f}\")\n",
    "\n",
    "finally:\n",
    "    # 4. Clean up\n",
    "    env.close()\n",
    "    "
   ]
  },
  {
   "cell_type": "code",
   "execution_count": 14,
   "id": "cfc3b289",
   "metadata": {},
   "outputs": [
    {
     "name": "stdout",
     "output_type": "stream",
     "text": [
      "Total reward: [-129.43578]\n"
     ]
    }
   ],
   "source": [
    "import gymnasium as gym\n",
    "from stable_baselines3 import SAC\n",
    "from stable_baselines3.common.vec_env import DummyVecEnv\n",
    "from stable_baselines3.common.monitor import Monitor\n",
    "\n",
    "def make_env(env_id, render_mode=None):\n",
    "    def _init():\n",
    "        env = gym.make(env_id, render_mode=render_mode)\n",
    "        env = Monitor(env)\n",
    "        return env\n",
    "    return _init\n",
    "\n",
    "# Create environment\n",
    "env = DummyVecEnv([make_env(\"Pendulum-v1\", render_mode=\"human\")])\n",
    "\n",
    "try:\n",
    "    # Option 2: Load without verification then set env\n",
    "    model = SAC.load(f\"./logs/{algo}/best_model.zip\")\n",
    "    model.set_env(env)\n",
    "    \n",
    "    # Run the model\n",
    "    obs = env.reset()\n",
    "    done = False\n",
    "    total_reward = 0\n",
    "    \n",
    "    while not done:\n",
    "        action, _ = model.predict(obs, deterministic=True)\n",
    "        obs, reward, done, info = env.step(action)\n",
    "        total_reward += reward\n",
    "        env.render()\n",
    "        \n",
    "    print(f\"Total reward: {total_reward}\")\n",
    "\n",
    "finally:\n",
    "    env.close()"
   ]
  }
 ],
 "metadata": {
  "kernelspec": {
   "display_name": "Python 3",
   "language": "python",
   "name": "python3"
  },
  "language_info": {
   "codemirror_mode": {
    "name": "ipython",
    "version": 3
   },
   "file_extension": ".py",
   "mimetype": "text/x-python",
   "name": "python",
   "nbconvert_exporter": "python",
   "pygments_lexer": "ipython3",
   "version": "3.10.11"
  }
 },
 "nbformat": 4,
 "nbformat_minor": 5
}
